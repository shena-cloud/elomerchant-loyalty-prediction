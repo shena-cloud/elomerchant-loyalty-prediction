{
 "cells": [
  {
   "cell_type": "code",
   "execution_count": 90,
   "metadata": {},
   "outputs": [
    {
     "name": "stdout",
     "output_type": "stream",
     "text": [
      "Requirement already satisfied: phik in /opt/conda/lib/python3.7/site-packages (0.10.0)\n",
      "Requirement already satisfied: pandas>=0.23.4 in /opt/conda/lib/python3.7/site-packages (from phik) (1.1.5)\n",
      "Requirement already satisfied: joblib>=0.14.1 in /opt/conda/lib/python3.7/site-packages (from phik) (0.17.0)\n",
      "Requirement already satisfied: numpy>=1.15.4 in /opt/conda/lib/python3.7/site-packages (from phik) (1.19.4)\n",
      "Requirement already satisfied: scipy>=1.1.0 in /opt/conda/lib/python3.7/site-packages (from phik) (1.5.3)\n",
      "Requirement already satisfied: numba>=0.38.1 in /opt/conda/lib/python3.7/site-packages (from phik) (0.52.0)\n",
      "Requirement already satisfied: matplotlib>=2.2.3 in /opt/conda/lib/python3.7/site-packages (from phik) (3.3.3)\n",
      "Requirement already satisfied: pillow>=6.2.0 in /opt/conda/lib/python3.7/site-packages (from matplotlib>=2.2.3->phik) (8.0.1)\n",
      "Requirement already satisfied: kiwisolver>=1.0.1 in /opt/conda/lib/python3.7/site-packages (from matplotlib>=2.2.3->phik) (1.3.1)\n",
      "Requirement already satisfied: pyparsing!=2.0.4,!=2.1.2,!=2.1.6,>=2.0.3 in /opt/conda/lib/python3.7/site-packages (from matplotlib>=2.2.3->phik) (2.4.7)\n",
      "Requirement already satisfied: python-dateutil>=2.1 in /opt/conda/lib/python3.7/site-packages (from matplotlib>=2.2.3->phik) (2.8.1)\n",
      "Requirement already satisfied: numpy>=1.15.4 in /opt/conda/lib/python3.7/site-packages (from phik) (1.19.4)\n",
      "Requirement already satisfied: cycler>=0.10 in /opt/conda/lib/python3.7/site-packages (from matplotlib>=2.2.3->phik) (0.10.0)\n",
      "Requirement already satisfied: six in /opt/conda/lib/python3.7/site-packages (from cycler>=0.10->matplotlib>=2.2.3->phik) (1.15.0)\n",
      "Requirement already satisfied: numpy>=1.15.4 in /opt/conda/lib/python3.7/site-packages (from phik) (1.19.4)\n",
      "Requirement already satisfied: llvmlite<0.36,>=0.35.0 in /opt/conda/lib/python3.7/site-packages (from numba>=0.38.1->phik) (0.35.0)\n",
      "Requirement already satisfied: setuptools in /opt/conda/lib/python3.7/site-packages (from numba>=0.38.1->phik) (51.0.0)\n",
      "Requirement already satisfied: python-dateutil>=2.1 in /opt/conda/lib/python3.7/site-packages (from matplotlib>=2.2.3->phik) (2.8.1)\n",
      "Requirement already satisfied: pytz>=2017.2 in /opt/conda/lib/python3.7/site-packages (from pandas>=0.23.4->phik) (2020.4)\n",
      "Requirement already satisfied: numpy>=1.15.4 in /opt/conda/lib/python3.7/site-packages (from phik) (1.19.4)\n",
      "Requirement already satisfied: six in /opt/conda/lib/python3.7/site-packages (from cycler>=0.10->matplotlib>=2.2.3->phik) (1.15.0)\n",
      "Requirement already satisfied: numpy>=1.15.4 in /opt/conda/lib/python3.7/site-packages (from phik) (1.19.4)\n",
      "Note: you may need to restart the kernel to use updated packages.\n"
     ]
    }
   ],
   "source": [
    "pip install phik"
   ]
  },
  {
   "cell_type": "code",
   "execution_count": 14,
   "metadata": {},
   "outputs": [
    {
     "name": "stdout",
     "output_type": "stream",
     "text": [
      "Reading package lists... Done\n",
      "Building dependency tree       \n",
      "Reading state information... Done\n",
      "p7zip is already the newest version (16.02+dfsg-6).\n",
      "0 upgraded, 0 newly installed, 0 to remove and 2 not upgraded.\n"
     ]
    }
   ],
   "source": [
    "!sudo apt-get install p7zip"
   ]
  },
  {
   "cell_type": "code",
   "execution_count": 17,
   "metadata": {},
   "outputs": [
    {
     "name": "stdout",
     "output_type": "stream",
     "text": [
      "--2021-01-25 09:46:44--  https://storage.googleapis.com/kaggle-competitions-data/kaggle-v2/10445/200747/compressed/historical_transactions.csv.zip?GoogleAccessId=web-data@kaggle-161607.iam.gserviceaccount.com&Expires=1611827187&Signature=ktlfzwMJcrOAB6bkD5o3SjEu%2FySoIJyuW%2FXa3GEbK4Pd%2BoBe%2FwZF2Cb8D%2B0bmWEdi2MLA5hniEKfx8XbXfoO81ENNSm896p5Wl6%2FdsLMMA9yNbsIqeWoRRx2UVBVMitCx3jkDDLxEx9Kg8Ffca3BPzEPIDC8Nyzo1Y3Ctg3V4G3HSpmaSIwxrp3gbC8DeG9hIZ2cFNjVPLRYhDc21mAsmjvB76%2B7TVktN6230HpNduyEJyiy%2FfgZCGDmEIkZZf8TG6u%2B%2FOfpCLeLMd3prrdAp7E5DcsEQhKuBKkPtYxQyOg048wfLbBzY%2FOvRo0V3hqAiY%2BFF49DM%2FwJJIASfse9Jg%3D%3D&response-content-disposition=attachment%3B+filename%3Dhistorical_transactions.csv.zip\n",
      "Resolving storage.googleapis.com (storage.googleapis.com)... 74.125.31.128, 74.125.134.128, 74.125.141.128, ...\n",
      "Connecting to storage.googleapis.com (storage.googleapis.com)|74.125.31.128|:443... connected.\n",
      "HTTP request sent, awaiting response... 200 OK\n",
      "Length: 574302502 (548M) [application/zip]\n",
      "Saving to: ‘historical_transactions.csv.zip’\n",
      "\n",
      "historical_transact 100%[===================>] 547.70M   162MB/s    in 3.4s    \n",
      "\n",
      "2021-01-25 09:46:48 (162 MB/s) - ‘historical_transactions.csv.zip’ saved [574302502/574302502]\n",
      "\n"
     ]
    }
   ],
   "source": [
    "!wget --header=\"Host: storage.googleapis.com\" --header=\"User-Agent: Mozilla/5.0 (Windows NT 10.0; Win64; x64) AppleWebKit/537.36 (KHTML, like Gecko) Chrome/87.0.4280.141 Safari/537.36\" --header=\"Accept: text/html,application/xhtml+xml,application/xml;q=0.9,image/avif,image/webp,image/apng,*/*;q=0.8,application/signed-exchange;v=b3;q=0.9\" --header=\"Accept-Language: en-US,en;q=0.9\" --header=\"Referer: https://www.kaggle.com/\" \"https://storage.googleapis.com/kaggle-competitions-data/kaggle-v2/10445/200747/compressed/historical_transactions.csv.zip?GoogleAccessId=web-data@kaggle-161607.iam.gserviceaccount.com&Expires=1611827187&Signature=ktlfzwMJcrOAB6bkD5o3SjEu%2FySoIJyuW%2FXa3GEbK4Pd%2BoBe%2FwZF2Cb8D%2B0bmWEdi2MLA5hniEKfx8XbXfoO81ENNSm896p5Wl6%2FdsLMMA9yNbsIqeWoRRx2UVBVMitCx3jkDDLxEx9Kg8Ffca3BPzEPIDC8Nyzo1Y3Ctg3V4G3HSpmaSIwxrp3gbC8DeG9hIZ2cFNjVPLRYhDc21mAsmjvB76%2B7TVktN6230HpNduyEJyiy%2FfgZCGDmEIkZZf8TG6u%2B%2FOfpCLeLMd3prrdAp7E5DcsEQhKuBKkPtYxQyOg048wfLbBzY%2FOvRo0V3hqAiY%2BFF49DM%2FwJJIASfse9Jg%3D%3D&response-content-disposition=attachment%3B+filename%3Dhistorical_transactions.csv.zip\" -c -O 'historical_transactions.csv.zip'"
   ]
  },
  {
   "cell_type": "code",
   "execution_count": 40,
   "metadata": {},
   "outputs": [
    {
     "name": "stdout",
     "output_type": "stream",
     "text": [
      "--2021-01-25 10:41:49--  https://storage.googleapis.com/kaggle-competitions-data/kaggle-v2/10445/200747/compressed/new_merchant_transactions.csv.zip?GoogleAccessId=web-data@kaggle-161607.iam.gserviceaccount.com&Expires=1611830483&Signature=Vv091Lzfihz9HSPFyYOwZfwG05OF7jm4hrQNSNrDAKLeM8B%2BK4Q4%2BIRD6IrX94Q3Kl3FcB%2FXetRu46q%2FfBaawvcp6hx0HiM6co%2BHu6Ey%2FVmfnKf%2B10l1MQiGY1GLZGrN7v4clUqpGLU6ci962sDdlfz15ZzBb5%2FNzdaD04Zch01qCP0TlUsKlErMtM6i3EuweTimERmkyLNvc3Ghw8BgLcVZrIrJq0cDi4wvJngUcxke631qSZI7xTmNNA7UykdtdJYHnZqbHR5H5hyhi9Ixll7FX88gUiLh1bAotyxs0dRzqLfzi9StV3LcMNBG9RakRUiLBwJwb9Ao3Z%2BtGtYZiw%3D%3D&response-content-disposition=attachment%3B+filename%3Dnew_merchant_transactions.csv.zip\n",
      "Resolving storage.googleapis.com (storage.googleapis.com)... 173.194.214.128, 173.194.215.128, 173.194.216.128, ...\n",
      "Connecting to storage.googleapis.com (storage.googleapis.com)|173.194.214.128|:443... connected.\n",
      "HTTP request sent, awaiting response... 200 OK\n",
      "Length: 51835339 (49M) [application/zip]\n",
      "Saving to: ‘new_merchant_transactions.csv.zip’\n",
      "\n",
      "new_merchant_transa 100%[===================>]  49.43M   109MB/s    in 0.5s    \n",
      "\n",
      "2021-01-25 10:41:50 (109 MB/s) - ‘new_merchant_transactions.csv.zip’ saved [51835339/51835339]\n",
      "\n"
     ]
    }
   ],
   "source": [
    "!wget --header=\"Host: storage.googleapis.com\" --header=\"User-Agent: Mozilla/5.0 (Windows NT 10.0; Win64; x64) AppleWebKit/537.36 (KHTML, like Gecko) Chrome/87.0.4280.141 Safari/537.36\" --header=\"Accept: text/html,application/xhtml+xml,application/xml;q=0.9,image/avif,image/webp,image/apng,*/*;q=0.8,application/signed-exchange;v=b3;q=0.9\" --header=\"Accept-Language: en-US,en;q=0.9\" --header=\"Referer: https://www.kaggle.com/\" \"https://storage.googleapis.com/kaggle-competitions-data/kaggle-v2/10445/200747/compressed/new_merchant_transactions.csv.zip?GoogleAccessId=web-data@kaggle-161607.iam.gserviceaccount.com&Expires=1611830483&Signature=Vv091Lzfihz9HSPFyYOwZfwG05OF7jm4hrQNSNrDAKLeM8B%2BK4Q4%2BIRD6IrX94Q3Kl3FcB%2FXetRu46q%2FfBaawvcp6hx0HiM6co%2BHu6Ey%2FVmfnKf%2B10l1MQiGY1GLZGrN7v4clUqpGLU6ci962sDdlfz15ZzBb5%2FNzdaD04Zch01qCP0TlUsKlErMtM6i3EuweTimERmkyLNvc3Ghw8BgLcVZrIrJq0cDi4wvJngUcxke631qSZI7xTmNNA7UykdtdJYHnZqbHR5H5hyhi9Ixll7FX88gUiLh1bAotyxs0dRzqLfzi9StV3LcMNBG9RakRUiLBwJwb9Ao3Z%2BtGtYZiw%3D%3D&response-content-disposition=attachment%3B+filename%3Dnew_merchant_transactions.csv.zip\" -c -O 'new_merchant_transactions.csv.zip'"
   ]
  },
  {
   "cell_type": "code",
   "execution_count": 65,
   "metadata": {},
   "outputs": [
    {
     "name": "stdout",
     "output_type": "stream",
     "text": [
      "--2021-01-25 16:14:19--  https://storage.googleapis.com/kaggle-competitions-data/kaggle-v2/10445/200747/compressed/merchants.csv.zip?GoogleAccessId=web-data@kaggle-161607.iam.gserviceaccount.com&Expires=1611850434&Signature=FxTq0MhmQV%2F1jHvu3h%2FDTgbftYPhiqZNeqECNF36vaCAuvxFZRq58X7hifDBEa8cISyiZny78JGslPY2mm7Axwt7f30iZCDnsVXp1Xv8OCm2iIvJPWUfDXO%2FBfeBI9v2Q2Gao32K3rN3b7QZU1ClAta2mbz0m1rP4K8ARG7NEL9el19VRmy47qACoyl3tVxgsQyFd%2Bq9avo7wUT0RgcpYsTN76uo%2BXl9ti6IwuqtSx270%2Bhu64YUU7oHaNZiBTsie%2BfcYLE83YZ6kF0y5PAuk90WV75nc58DMahuceh8lPwo4Ik%2BnBeOCWZrXaEAIRxSe%2FM6E5MdOxwFHsKsqGYTcQ%3D%3D&response-content-disposition=attachment%3B+filename%3Dmerchants.csv.zip\n",
      "Resolving storage.googleapis.com (storage.googleapis.com)... 74.125.141.128, 173.194.213.128, 173.194.216.128, ...\n",
      "Connecting to storage.googleapis.com (storage.googleapis.com)|74.125.141.128|:443... connected.\n",
      "HTTP request sent, awaiting response... 200 OK\n",
      "Length: 13284946 (13M) [application/zip]\n",
      "Saving to: ‘merchants.csv.zip’\n",
      "\n",
      "merchants.csv.zip   100%[===================>]  12.67M  38.0MB/s    in 0.3s    \n",
      "\n",
      "2021-01-25 16:14:20 (38.0 MB/s) - ‘merchants.csv.zip’ saved [13284946/13284946]\n",
      "\n"
     ]
    }
   ],
   "source": [
    "!wget --header=\"Host: storage.googleapis.com\" --header=\"User-Agent: Mozilla/5.0 (Windows NT 10.0; Win64; x64) AppleWebKit/537.36 (KHTML, like Gecko) Chrome/87.0.4280.141 Safari/537.36\" --header=\"Accept: text/html,application/xhtml+xml,application/xml;q=0.9,image/avif,image/webp,image/apng,*/*;q=0.8,application/signed-exchange;v=b3;q=0.9\" --header=\"Accept-Language: en-US,en;q=0.9\" --header=\"Referer: https://www.kaggle.com/\" \"https://storage.googleapis.com/kaggle-competitions-data/kaggle-v2/10445/200747/compressed/merchants.csv.zip?GoogleAccessId=web-data@kaggle-161607.iam.gserviceaccount.com&Expires=1611850434&Signature=FxTq0MhmQV%2F1jHvu3h%2FDTgbftYPhiqZNeqECNF36vaCAuvxFZRq58X7hifDBEa8cISyiZny78JGslPY2mm7Axwt7f30iZCDnsVXp1Xv8OCm2iIvJPWUfDXO%2FBfeBI9v2Q2Gao32K3rN3b7QZU1ClAta2mbz0m1rP4K8ARG7NEL9el19VRmy47qACoyl3tVxgsQyFd%2Bq9avo7wUT0RgcpYsTN76uo%2BXl9ti6IwuqtSx270%2Bhu64YUU7oHaNZiBTsie%2BfcYLE83YZ6kF0y5PAuk90WV75nc58DMahuceh8lPwo4Ik%2BnBeOCWZrXaEAIRxSe%2FM6E5MdOxwFHsKsqGYTcQ%3D%3D&response-content-disposition=attachment%3B+filename%3Dmerchants.csv.zip\" -c -O 'merchants.csv.zip'"
   ]
  },
  {
   "cell_type": "code",
   "execution_count": 1,
   "metadata": {},
   "outputs": [],
   "source": [
    "import pandas as pd\n",
    "import matplotlib.pyplot as plt\n",
    "import seaborn as sns\n",
    "import warnings\n",
    "warnings.filterwarnings('ignore')\n",
    "from scipy import stats\n",
    "import numpy as np\n",
    "import zipfile as zp\n",
    "import statsmodels\n",
    "from statsmodels.stats.outliers_influence import variance_inflation_factor\n",
    "import phik"
   ]
  },
  {
   "cell_type": "code",
   "execution_count": 31,
   "metadata": {},
   "outputs": [],
   "source": [
    "zf = zp.ZipFile(r'historical_transactions.csv.zip')\n",
    "historical_transactions = pd.read_csv(zf.open('historical_transactions.csv'))\n",
    "historical_transactions.to_csv(r'historical_transactions.csv', index = False)"
   ]
  },
  {
   "cell_type": "code",
   "execution_count": 41,
   "metadata": {},
   "outputs": [],
   "source": [
    "zf = zp.ZipFile(r'new_merchant_transactions.csv.zip')\n",
    "new_merchant_transactions = pd.read_csv(zf.open('new_merchant_transactions.csv'))\n",
    "new_merchant_transactions.to_csv(r'new_merchant_transactions.csv', index = False)"
   ]
  },
  {
   "cell_type": "code",
   "execution_count": 69,
   "metadata": {},
   "outputs": [],
   "source": [
    "zf = zp.ZipFile(r'merchants.csv.zip')\n",
    "merchants = pd.read_csv(zf.open('merchants.csv'))\n",
    "merchants.to_csv(r'merchants.csv', index = False)"
   ]
  },
  {
   "cell_type": "code",
   "execution_count": 2,
   "metadata": {},
   "outputs": [
    {
     "data": {
      "text/html": [
       "<div>\n",
       "<style scoped>\n",
       "    .dataframe tbody tr th:only-of-type {\n",
       "        vertical-align: middle;\n",
       "    }\n",
       "\n",
       "    .dataframe tbody tr th {\n",
       "        vertical-align: top;\n",
       "    }\n",
       "\n",
       "    .dataframe thead th {\n",
       "        text-align: right;\n",
       "    }\n",
       "</style>\n",
       "<table border=\"1\" class=\"dataframe\">\n",
       "  <thead>\n",
       "    <tr style=\"text-align: right;\">\n",
       "      <th></th>\n",
       "      <th>authorized_flag</th>\n",
       "      <th>card_id</th>\n",
       "      <th>city_id</th>\n",
       "      <th>category_1</th>\n",
       "      <th>installments</th>\n",
       "      <th>category_3</th>\n",
       "      <th>merchant_category_id</th>\n",
       "      <th>merchant_id</th>\n",
       "      <th>month_lag</th>\n",
       "      <th>purchase_amount</th>\n",
       "      <th>purchase_date</th>\n",
       "      <th>category_2</th>\n",
       "      <th>state_id</th>\n",
       "      <th>subsector_id</th>\n",
       "    </tr>\n",
       "  </thead>\n",
       "  <tbody>\n",
       "    <tr>\n",
       "      <th>0</th>\n",
       "      <td>Y</td>\n",
       "      <td>C_ID_4e6213e9bc</td>\n",
       "      <td>88</td>\n",
       "      <td>N</td>\n",
       "      <td>0</td>\n",
       "      <td>A</td>\n",
       "      <td>80</td>\n",
       "      <td>M_ID_e020e9b302</td>\n",
       "      <td>-8</td>\n",
       "      <td>-0.703331</td>\n",
       "      <td>2017-06-25 15:33:07</td>\n",
       "      <td>1.0</td>\n",
       "      <td>16</td>\n",
       "      <td>37</td>\n",
       "    </tr>\n",
       "    <tr>\n",
       "      <th>1</th>\n",
       "      <td>Y</td>\n",
       "      <td>C_ID_4e6213e9bc</td>\n",
       "      <td>88</td>\n",
       "      <td>N</td>\n",
       "      <td>0</td>\n",
       "      <td>A</td>\n",
       "      <td>367</td>\n",
       "      <td>M_ID_86ec983688</td>\n",
       "      <td>-7</td>\n",
       "      <td>-0.733128</td>\n",
       "      <td>2017-07-15 12:10:45</td>\n",
       "      <td>1.0</td>\n",
       "      <td>16</td>\n",
       "      <td>16</td>\n",
       "    </tr>\n",
       "    <tr>\n",
       "      <th>2</th>\n",
       "      <td>Y</td>\n",
       "      <td>C_ID_4e6213e9bc</td>\n",
       "      <td>88</td>\n",
       "      <td>N</td>\n",
       "      <td>0</td>\n",
       "      <td>A</td>\n",
       "      <td>80</td>\n",
       "      <td>M_ID_979ed661fc</td>\n",
       "      <td>-6</td>\n",
       "      <td>-0.720386</td>\n",
       "      <td>2017-08-09 22:04:29</td>\n",
       "      <td>1.0</td>\n",
       "      <td>16</td>\n",
       "      <td>37</td>\n",
       "    </tr>\n",
       "    <tr>\n",
       "      <th>3</th>\n",
       "      <td>Y</td>\n",
       "      <td>C_ID_4e6213e9bc</td>\n",
       "      <td>88</td>\n",
       "      <td>N</td>\n",
       "      <td>0</td>\n",
       "      <td>A</td>\n",
       "      <td>560</td>\n",
       "      <td>M_ID_e6d5ae8ea6</td>\n",
       "      <td>-5</td>\n",
       "      <td>-0.735352</td>\n",
       "      <td>2017-09-02 10:06:26</td>\n",
       "      <td>1.0</td>\n",
       "      <td>16</td>\n",
       "      <td>34</td>\n",
       "    </tr>\n",
       "    <tr>\n",
       "      <th>4</th>\n",
       "      <td>Y</td>\n",
       "      <td>C_ID_4e6213e9bc</td>\n",
       "      <td>88</td>\n",
       "      <td>N</td>\n",
       "      <td>0</td>\n",
       "      <td>A</td>\n",
       "      <td>80</td>\n",
       "      <td>M_ID_e020e9b302</td>\n",
       "      <td>-11</td>\n",
       "      <td>-0.722865</td>\n",
       "      <td>2017-03-10 01:14:19</td>\n",
       "      <td>1.0</td>\n",
       "      <td>16</td>\n",
       "      <td>37</td>\n",
       "    </tr>\n",
       "  </tbody>\n",
       "</table>\n",
       "</div>"
      ],
      "text/plain": [
       "  authorized_flag          card_id  city_id category_1  installments  \\\n",
       "0               Y  C_ID_4e6213e9bc       88          N             0   \n",
       "1               Y  C_ID_4e6213e9bc       88          N             0   \n",
       "2               Y  C_ID_4e6213e9bc       88          N             0   \n",
       "3               Y  C_ID_4e6213e9bc       88          N             0   \n",
       "4               Y  C_ID_4e6213e9bc       88          N             0   \n",
       "\n",
       "  category_3  merchant_category_id      merchant_id  month_lag  \\\n",
       "0          A                    80  M_ID_e020e9b302         -8   \n",
       "1          A                   367  M_ID_86ec983688         -7   \n",
       "2          A                    80  M_ID_979ed661fc         -6   \n",
       "3          A                   560  M_ID_e6d5ae8ea6         -5   \n",
       "4          A                    80  M_ID_e020e9b302        -11   \n",
       "\n",
       "   purchase_amount        purchase_date  category_2  state_id  subsector_id  \n",
       "0        -0.703331  2017-06-25 15:33:07         1.0        16            37  \n",
       "1        -0.733128  2017-07-15 12:10:45         1.0        16            16  \n",
       "2        -0.720386  2017-08-09 22:04:29         1.0        16            37  \n",
       "3        -0.735352  2017-09-02 10:06:26         1.0        16            34  \n",
       "4        -0.722865  2017-03-10 01:14:19         1.0        16            37  "
      ]
     },
     "execution_count": 2,
     "metadata": {},
     "output_type": "execute_result"
    }
   ],
   "source": [
    "historical_transactions = pd.read_csv('historical_transactions.csv')\n",
    "historical_transactions.head()"
   ]
  },
  {
   "cell_type": "code",
   "execution_count": 3,
   "metadata": {},
   "outputs": [
    {
     "data": {
      "text/plain": [
       "(29112361, 14)"
      ]
     },
     "execution_count": 3,
     "metadata": {},
     "output_type": "execute_result"
    }
   ],
   "source": [
    "historical_transactions.shape"
   ]
  },
  {
   "cell_type": "code",
   "execution_count": 3,
   "metadata": {},
   "outputs": [],
   "source": [
    "#https://www.kaggle.com/hiralmshah/reduce-memory-usage-trick-with-elo-merchant-data\n",
    "def reduce_memory(dataframe, verbose =True):\n",
    "    numerical = ['int16', 'int32', 'int64', 'float16', 'float32', 'float64']\n",
    "    initial_memory = dataframe.memory_usage().sum()/1024**2\n",
    "    for col in dataframe.columns:\n",
    "        col_type = dataframe[col].dtypes\n",
    "        if col_type == object:\n",
    "            dataframe[col] = dataframe[col].astype('category')\n",
    "        if col_type in numerical:\n",
    "            c_min = dataframe[col].min()\n",
    "            c_max = dataframe[col].max()\n",
    "            if str(col_type)[:3] =='int':\n",
    "                if c_min > np.iinfo(np.int8).min and c_max < np.iinfo(np.int8).max:\n",
    "                    dataframe[col] = dataframe[col].astype(np.int8)\n",
    "                elif c_min > np.iinfo(np.int16).min and c_max < np.iinfo(np.int16).max:\n",
    "                    dataframe[col] = dataframe[col].astype(np.int16)\n",
    "                elif c_min > np.iinfo(np.int32).min and c_max < np.iinfo(np.int32).max:\n",
    "                    dataframe[col] = dataframe[col].astype(np.int32)\n",
    "                elif c_min > np.iinfo(np.int64).min and c_max < np.iinfo(np.int64).max:\n",
    "                    dataframe[col] = dataframe[col].astype(np.int64)\n",
    "            else:\n",
    "                if c_min > np.finfo(np.float16).min and c_max < np.finfo(np.float16).max:\n",
    "                    dataframe[col] = dataframe[col].astype(np.float16)\n",
    "                elif c_min > np.finfo(np.float32).min and c_max < np.finfo(np.float32).max:\n",
    "                    dataframe[col] = dataframe[col].astype(np.float32)\n",
    "                elif c_min > np.finfo(np.float64).min and c_max < np.finfo(np.float64).max:\n",
    "                    dataframe[col] = dataframe[col].astype(np.float64)\n",
    "    final_memory = dataframe.memory_usage().sum()/ 1024**2\n",
    "    if verbose:\n",
    "        print('Memory usage reduced to {:5.2f} Mb({:.1f}% reduction)'.format(final_memory, (initial_memory-final_memory)/initial_memory*100))\n",
    "    return dataframe"
   ]
  },
  {
   "cell_type": "code",
   "execution_count": 4,
   "metadata": {},
   "outputs": [
    {
     "name": "stdout",
     "output_type": "stream",
     "text": [
      "Memory usage reduced to 1622.97 Mb(47.8% reduction)\n"
     ]
    }
   ],
   "source": [
    "historical_transactions = reduce_memory(historical_transactions, verbose =True)"
   ]
  },
  {
   "cell_type": "code",
   "execution_count": 5,
   "metadata": {},
   "outputs": [
    {
     "data": {
      "text/plain": [
       "authorized_flag         category\n",
       "card_id                 category\n",
       "city_id                    int16\n",
       "category_1              category\n",
       "installments               int16\n",
       "category_3              category\n",
       "merchant_category_id       int16\n",
       "merchant_id             category\n",
       "month_lag                   int8\n",
       "purchase_amount          float32\n",
       "purchase_date           category\n",
       "category_2               float16\n",
       "state_id                    int8\n",
       "subsector_id                int8\n",
       "dtype: object"
      ]
     },
     "execution_count": 5,
     "metadata": {},
     "output_type": "execute_result"
    }
   ],
   "source": [
    "historical_transactions.dtypes"
   ]
  },
  {
   "cell_type": "markdown",
   "metadata": {},
   "source": [
    "### 1. Explore into train and test data"
   ]
  },
  {
   "cell_type": "code",
   "execution_count": 13,
   "metadata": {},
   "outputs": [
    {
     "data": {
      "text/html": [
       "<div>\n",
       "<style scoped>\n",
       "    .dataframe tbody tr th:only-of-type {\n",
       "        vertical-align: middle;\n",
       "    }\n",
       "\n",
       "    .dataframe tbody tr th {\n",
       "        vertical-align: top;\n",
       "    }\n",
       "\n",
       "    .dataframe thead th {\n",
       "        text-align: right;\n",
       "    }\n",
       "</style>\n",
       "<table border=\"1\" class=\"dataframe\">\n",
       "  <thead>\n",
       "    <tr style=\"text-align: right;\">\n",
       "      <th></th>\n",
       "      <th>first_active_month</th>\n",
       "      <th>card_id</th>\n",
       "      <th>feature_1</th>\n",
       "      <th>feature_2</th>\n",
       "      <th>feature_3</th>\n",
       "      <th>target</th>\n",
       "    </tr>\n",
       "  </thead>\n",
       "  <tbody>\n",
       "    <tr>\n",
       "      <th>0</th>\n",
       "      <td>2017-06</td>\n",
       "      <td>C_ID_92a2005557</td>\n",
       "      <td>5</td>\n",
       "      <td>2</td>\n",
       "      <td>1</td>\n",
       "      <td>-0.820283</td>\n",
       "    </tr>\n",
       "    <tr>\n",
       "      <th>1</th>\n",
       "      <td>2017-01</td>\n",
       "      <td>C_ID_3d0044924f</td>\n",
       "      <td>4</td>\n",
       "      <td>1</td>\n",
       "      <td>0</td>\n",
       "      <td>0.392913</td>\n",
       "    </tr>\n",
       "    <tr>\n",
       "      <th>2</th>\n",
       "      <td>2016-08</td>\n",
       "      <td>C_ID_d639edf6cd</td>\n",
       "      <td>2</td>\n",
       "      <td>2</td>\n",
       "      <td>0</td>\n",
       "      <td>0.688056</td>\n",
       "    </tr>\n",
       "    <tr>\n",
       "      <th>3</th>\n",
       "      <td>2017-09</td>\n",
       "      <td>C_ID_186d6a6901</td>\n",
       "      <td>4</td>\n",
       "      <td>3</td>\n",
       "      <td>0</td>\n",
       "      <td>0.142495</td>\n",
       "    </tr>\n",
       "    <tr>\n",
       "      <th>4</th>\n",
       "      <td>2017-11</td>\n",
       "      <td>C_ID_cdbd2c0db2</td>\n",
       "      <td>1</td>\n",
       "      <td>3</td>\n",
       "      <td>0</td>\n",
       "      <td>-0.159749</td>\n",
       "    </tr>\n",
       "  </tbody>\n",
       "</table>\n",
       "</div>"
      ],
      "text/plain": [
       "  first_active_month          card_id  feature_1  feature_2  feature_3  \\\n",
       "0            2017-06  C_ID_92a2005557          5          2          1   \n",
       "1            2017-01  C_ID_3d0044924f          4          1          0   \n",
       "2            2016-08  C_ID_d639edf6cd          2          2          0   \n",
       "3            2017-09  C_ID_186d6a6901          4          3          0   \n",
       "4            2017-11  C_ID_cdbd2c0db2          1          3          0   \n",
       "\n",
       "     target  \n",
       "0 -0.820283  \n",
       "1  0.392913  \n",
       "2  0.688056  \n",
       "3  0.142495  \n",
       "4 -0.159749  "
      ]
     },
     "execution_count": 13,
     "metadata": {},
     "output_type": "execute_result"
    }
   ],
   "source": [
    "train = pd.read_csv('train.csv')\n",
    "train.head()"
   ]
  },
  {
   "cell_type": "code",
   "execution_count": 7,
   "metadata": {},
   "outputs": [
    {
     "data": {
      "text/html": [
       "<div>\n",
       "<style scoped>\n",
       "    .dataframe tbody tr th:only-of-type {\n",
       "        vertical-align: middle;\n",
       "    }\n",
       "\n",
       "    .dataframe tbody tr th {\n",
       "        vertical-align: top;\n",
       "    }\n",
       "\n",
       "    .dataframe thead th {\n",
       "        text-align: right;\n",
       "    }\n",
       "</style>\n",
       "<table border=\"1\" class=\"dataframe\">\n",
       "  <thead>\n",
       "    <tr style=\"text-align: right;\">\n",
       "      <th></th>\n",
       "      <th>first_active_month</th>\n",
       "      <th>card_id</th>\n",
       "      <th>feature_1</th>\n",
       "      <th>feature_2</th>\n",
       "      <th>feature_3</th>\n",
       "    </tr>\n",
       "  </thead>\n",
       "  <tbody>\n",
       "    <tr>\n",
       "      <th>0</th>\n",
       "      <td>2017-04</td>\n",
       "      <td>C_ID_0ab67a22ab</td>\n",
       "      <td>3</td>\n",
       "      <td>3</td>\n",
       "      <td>1</td>\n",
       "    </tr>\n",
       "    <tr>\n",
       "      <th>1</th>\n",
       "      <td>2017-01</td>\n",
       "      <td>C_ID_130fd0cbdd</td>\n",
       "      <td>2</td>\n",
       "      <td>3</td>\n",
       "      <td>0</td>\n",
       "    </tr>\n",
       "    <tr>\n",
       "      <th>2</th>\n",
       "      <td>2017-08</td>\n",
       "      <td>C_ID_b709037bc5</td>\n",
       "      <td>5</td>\n",
       "      <td>1</td>\n",
       "      <td>1</td>\n",
       "    </tr>\n",
       "    <tr>\n",
       "      <th>3</th>\n",
       "      <td>2017-12</td>\n",
       "      <td>C_ID_d27d835a9f</td>\n",
       "      <td>2</td>\n",
       "      <td>1</td>\n",
       "      <td>0</td>\n",
       "    </tr>\n",
       "    <tr>\n",
       "      <th>4</th>\n",
       "      <td>2015-12</td>\n",
       "      <td>C_ID_2b5e3df5c2</td>\n",
       "      <td>5</td>\n",
       "      <td>1</td>\n",
       "      <td>1</td>\n",
       "    </tr>\n",
       "  </tbody>\n",
       "</table>\n",
       "</div>"
      ],
      "text/plain": [
       "  first_active_month          card_id  feature_1  feature_2  feature_3\n",
       "0            2017-04  C_ID_0ab67a22ab          3          3          1\n",
       "1            2017-01  C_ID_130fd0cbdd          2          3          0\n",
       "2            2017-08  C_ID_b709037bc5          5          1          1\n",
       "3            2017-12  C_ID_d27d835a9f          2          1          0\n",
       "4            2015-12  C_ID_2b5e3df5c2          5          1          1"
      ]
     },
     "execution_count": 7,
     "metadata": {},
     "output_type": "execute_result"
    }
   ],
   "source": [
    "test = pd.read_csv('test.csv')\n",
    "test.head()"
   ]
  },
  {
   "cell_type": "markdown",
   "metadata": {},
   "source": [
    "#### 1.1 Data Overview"
   ]
  },
  {
   "cell_type": "code",
   "execution_count": 8,
   "metadata": {},
   "outputs": [
    {
     "name": "stdout",
     "output_type": "stream",
     "text": [
      "Shape of train.csv: (201917, 6)\n",
      "Shape of test.csv: (123623, 5)\n"
     ]
    }
   ],
   "source": [
    "print('Shape of train.csv:',train.shape)\n",
    "print('Shape of test.csv:',test.shape)"
   ]
  },
  {
   "cell_type": "code",
   "execution_count": 10,
   "metadata": {},
   "outputs": [
    {
     "name": "stdout",
     "output_type": "stream",
     "text": [
      "<class 'pandas.core.frame.DataFrame'>\n",
      "RangeIndex: 201917 entries, 0 to 201916\n",
      "Data columns (total 6 columns):\n",
      " #   Column              Non-Null Count   Dtype         \n",
      "---  ------              --------------   -----         \n",
      " 0   first_active_month  201917 non-null  datetime64[ns]\n",
      " 1   card_id             201917 non-null  object        \n",
      " 2   feature_1           201917 non-null  int64         \n",
      " 3   feature_2           201917 non-null  int64         \n",
      " 4   feature_3           201917 non-null  int64         \n",
      " 5   target              201917 non-null  float64       \n",
      "dtypes: datetime64[ns](1), float64(1), int64(3), object(1)\n",
      "memory usage: 9.2+ MB\n"
     ]
    }
   ],
   "source": [
    "train.info()"
   ]
  },
  {
   "cell_type": "code",
   "execution_count": 11,
   "metadata": {},
   "outputs": [
    {
     "name": "stdout",
     "output_type": "stream",
     "text": [
      "<class 'pandas.core.frame.DataFrame'>\n",
      "RangeIndex: 123623 entries, 0 to 123622\n",
      "Data columns (total 5 columns):\n",
      " #   Column              Non-Null Count   Dtype         \n",
      "---  ------              --------------   -----         \n",
      " 0   first_active_month  123622 non-null  datetime64[ns]\n",
      " 1   card_id             123623 non-null  object        \n",
      " 2   feature_1           123623 non-null  int64         \n",
      " 3   feature_2           123623 non-null  int64         \n",
      " 4   feature_3           123623 non-null  int64         \n",
      "dtypes: datetime64[ns](1), int64(3), object(1)\n",
      "memory usage: 4.7+ MB\n"
     ]
    }
   ],
   "source": [
    "test.info()"
   ]
  },
  {
   "cell_type": "code",
   "execution_count": 12,
   "metadata": {},
   "outputs": [
    {
     "data": {
      "text/plain": [
       "first_active_month        75\n",
       "card_id               201917\n",
       "feature_1                  5\n",
       "feature_2                  3\n",
       "feature_3                  2\n",
       "target                197110\n",
       "dtype: int64"
      ]
     },
     "execution_count": 12,
     "metadata": {},
     "output_type": "execute_result"
    }
   ],
   "source": [
    "train.apply(lambda x: len(x.unique()))"
   ]
  },
  {
   "cell_type": "code",
   "execution_count": 13,
   "metadata": {},
   "outputs": [
    {
     "data": {
      "text/plain": [
       "first_active_month    0\n",
       "card_id               0\n",
       "feature_1             0\n",
       "feature_2             0\n",
       "feature_3             0\n",
       "target                0\n",
       "dtype: int64"
      ]
     },
     "execution_count": 13,
     "metadata": {},
     "output_type": "execute_result"
    }
   ],
   "source": [
    "train.apply(lambda x : sum(x.isna()))"
   ]
  },
  {
   "cell_type": "code",
   "execution_count": 14,
   "metadata": {},
   "outputs": [
    {
     "data": {
      "text/plain": [
       "first_active_month        76\n",
       "card_id               123623\n",
       "feature_1                  5\n",
       "feature_2                  3\n",
       "feature_3                  2\n",
       "dtype: int64"
      ]
     },
     "execution_count": 14,
     "metadata": {},
     "output_type": "execute_result"
    }
   ],
   "source": [
    "test.apply(lambda x: len(x.unique()))"
   ]
  },
  {
   "cell_type": "code",
   "execution_count": 15,
   "metadata": {
    "scrolled": true
   },
   "outputs": [
    {
     "data": {
      "text/plain": [
       "first_active_month    1\n",
       "card_id               0\n",
       "feature_1             0\n",
       "feature_2             0\n",
       "feature_3             0\n",
       "dtype: int64"
      ]
     },
     "execution_count": 15,
     "metadata": {},
     "output_type": "execute_result"
    }
   ],
   "source": [
    "test.apply(lambda x : sum(x.isna()))"
   ]
  },
  {
   "cell_type": "markdown",
   "metadata": {},
   "source": [
    "The train data do not have any null values. However, the test data has a missing 'first_active_month' which needs to be imputed."
   ]
  },
  {
   "cell_type": "markdown",
   "metadata": {},
   "source": [
    "#### 1.2 Explore anonymous features"
   ]
  },
  {
   "cell_type": "code",
   "execution_count": 54,
   "metadata": {},
   "outputs": [
    {
     "data": {
      "text/plain": [
       "<AxesSubplot:title={'center':'Feature 3'}>"
      ]
     },
     "execution_count": 54,
     "metadata": {},
     "output_type": "execute_result"
    },
    {
     "data": {
      "image/png": "[encoded data removed]",
      "text/plain": [
       "<Figure size 1080x576 with 3 Axes>"
      ]
     },
     "metadata": {
      "needs_background": "light"
     },
     "output_type": "display_data"
    }
   ],
   "source": [
    "fig,ax = plt.subplots(1,3,figsize = (15,8))\n",
    "train['feature_1'].value_counts().sort_index(ascending = False).plot(kind='bar',ax=ax[0],title = 'Feature 1')\n",
    "train['feature_2'].value_counts().sort_index(ascending = False).plot(kind='bar',ax=ax[1], title = 'Feature 2')\n",
    "train['feature_3'].value_counts().sort_index(ascending = False).plot(kind='bar',ax=ax[2], title = 'Feature 3')"
   ]
  },
  {
   "cell_type": "markdown",
   "metadata": {},
   "source": [
    "1. All the anonymous features are categorical\n",
    "2. feature_1 can take values [1,2,3,4,5]\n",
    "3. feature_2 can take values [1,2,3]\n",
    "4. feature_3 can take values [0,1]"
   ]
  },
  {
   "cell_type": "markdown",
   "metadata": {},
   "source": [
    "Lets check whether these anonymous features affect the target. "
   ]
  },
  {
   "cell_type": "code",
   "execution_count": 15,
   "metadata": {},
   "outputs": [
    {
     "data": {
      "image/png": "[encoded data removed]",
      "text/plain": [
       "<Figure size 1008x432 with 3 Axes>"
      ]
     },
     "metadata": {
      "needs_background": "light"
     },
     "output_type": "display_data"
    }
   ],
   "source": [
    "fig,ax = plt.subplots(1,3, figsize = (14,6))\n",
    "plt.suptitle('Box plot of features vs target')\n",
    "features = ['feature_1', 'feature_2', 'feature_3']\n",
    "for idx, col in enumerate(features):\n",
    "    sns.boxplot(x=col,y='target', data = train,ax=ax[idx], showfliers = False)"
   ]
  },
  {
   "cell_type": "markdown",
   "metadata": {},
   "source": [
    "From the above boxplots it is clear that the given anonymous features cannot contribute much in predicting the target. So we need to come up with good feature engineering techniques."
   ]
  },
  {
   "cell_type": "code",
   "execution_count": 17,
   "metadata": {},
   "outputs": [
    {
     "data": {
      "image/png": "[encoded data removed]",
      "text/plain": [
       "<Figure size 432x288 with 1 Axes>"
      ]
     },
     "metadata": {
      "needs_background": "light"
     },
     "output_type": "display_data"
    }
   ],
   "source": [
    "sns.distplot(train['target'])\n",
    "plt.title('Distribution of target')\n",
    "plt.show()"
   ]
  },
  {
   "cell_type": "markdown",
   "metadata": {},
   "source": [
    "#### 1.3 target variable"
   ]
  },
  {
   "cell_type": "code",
   "execution_count": 14,
   "metadata": {},
   "outputs": [
    {
     "data": {
      "text/plain": [
       "-33.219281    2207\n",
       " 0.000000     1630\n",
       " 1.000000      117\n",
       "-1.000000       81\n",
       "-0.584963       35\n",
       "              ... \n",
       "-0.366916        1\n",
       "-0.981282        1\n",
       "-1.179559        1\n",
       " 2.542670        1\n",
       " 1.367262        1\n",
       "Name: target, Length: 197110, dtype: int64"
      ]
     },
     "execution_count": 14,
     "metadata": {},
     "output_type": "execute_result"
    }
   ],
   "source": [
    "train['target'].value_counts()"
   ]
  },
  {
   "cell_type": "markdown",
   "metadata": {},
   "source": [
    "The distribution of target variable looks like a normal distribution. There are 2207 values less than -30, which may be outliers or rare data points"
   ]
  },
  {
   "cell_type": "code",
   "execution_count": 18,
   "metadata": {},
   "outputs": [
    {
     "name": "stdout",
     "output_type": "stream",
     "text": [
      "Percentage of outliers:1.0930233709890698%\n"
     ]
    }
   ],
   "source": [
    "train_outliers = train[train['target']<-30]\n",
    "perc_of_outliers = train_outliers.shape[0]/train.shape[0]\n",
    "print('Percentage of outliers:{}%'.format(perc_of_outliers*100))"
   ]
  },
  {
   "cell_type": "markdown",
   "metadata": {},
   "source": [
    "Nearly 1.09% of data is outliers"
   ]
  },
  {
   "cell_type": "code",
   "execution_count": 19,
   "metadata": {},
   "outputs": [
    {
     "data": {
      "image/png": "[encoded data removed]",
      "text/plain": [
       "<Figure size 432x288 with 1 Axes>"
      ]
     },
     "metadata": {
      "needs_background": "light"
     },
     "output_type": "display_data"
    }
   ],
   "source": [
    "target = train['target']\n",
    "qq_plot = stats.probplot(target, dist = 'norm', plot = plt)"
   ]
  },
  {
   "cell_type": "markdown",
   "metadata": {},
   "source": [
    "By observing the QQ plot, it is clear that the target variable do not follow a normal distribution."
   ]
  },
  {
   "cell_type": "code",
   "execution_count": 78,
   "metadata": {},
   "outputs": [
    {
     "data": {
      "image/png": "[encoded data removed]",
      "text/plain": [
       "<Figure size 1080x360 with 3 Axes>"
      ]
     },
     "metadata": {
      "needs_background": "light"
     },
     "output_type": "display_data"
    }
   ],
   "source": [
    "#https://www.kaggle.com/batalov/making-sense-of-elo-data-eda\n",
    "plt.figure(figsize = (15,5))\n",
    "plt.suptitle('Distribution of train and test data', fontsize = 15, y = 1, x = 0.4)\n",
    "for idx, col in enumerate(['feature_1', 'feature_2', 'feature_3']):\n",
    "    plt.subplot(1,4,idx+1)\n",
    "    height = train[col].value_counts()/train.shape[0]\n",
    "    plt.bar(height.index, height, label ='train',align = 'edge', width = -0.4)\n",
    "    height = test[col].value_counts()/test.shape[0]\n",
    "    plt.bar(height.index, height, label = 'test', align = 'edge', width = 0.4)\n",
    "    plt.title(col)\n",
    "    plt.legend()\n",
    "    plt.tight_layout()\n",
    "plt.tight_layout()\n",
    "plt.show()"
   ]
  },
  {
   "cell_type": "markdown",
   "metadata": {},
   "source": [
    "The train and test distribution looks almost identical."
   ]
  },
  {
   "cell_type": "markdown",
   "metadata": {},
   "source": [
    "#### 1.3 first_active_month"
   ]
  },
  {
   "cell_type": "code",
   "execution_count": 16,
   "metadata": {},
   "outputs": [],
   "source": [
    "train['first_active_month'] =pd.to_datetime(train['first_active_month'])\n",
    "test['first_active_month'] = pd.to_datetime(test['first_active_month'])"
   ]
  },
  {
   "cell_type": "code",
   "execution_count": 17,
   "metadata": {},
   "outputs": [
    {
     "name": "stdout",
     "output_type": "stream",
     "text": [
      "2011-11-01 00:00:00\n",
      "2018-02-01 00:00:00\n"
     ]
    }
   ],
   "source": [
    "print(train['first_active_month'].min())\n",
    "print(train['first_active_month'].max())"
   ]
  },
  {
   "cell_type": "markdown",
   "metadata": {},
   "source": [
    "The train.csv has data from 2011-11-01 to 2018-02-01. <br>\n",
    "Let us now look how many card data is present in each year."
   ]
  },
  {
   "cell_type": "code",
   "execution_count": 18,
   "metadata": {},
   "outputs": [
    {
     "data": {
      "text/plain": [
       "Text(0.5, 1.0, 'Distribution of data across years')"
      ]
     },
     "execution_count": 18,
     "metadata": {},
     "output_type": "execute_result"
    },
    {
     "data": {
      "image/png": "[encoded data removed]",
      "text/plain": [
       "<Figure size 720x360 with 1 Axes>"
      ]
     },
     "metadata": {
      "needs_background": "light"
     },
     "output_type": "display_data"
    }
   ],
   "source": [
    "train_card = train['first_active_month'].value_counts().sort_index()\n",
    "test_card = test['first_active_month'].value_counts().sort_index()\n",
    "tr = train_card.plot(figsize = (10,5), label ='train')\n",
    "te = test_card.plot(figsize = (10,5), label = 'test')\n",
    "plt.legend()\n",
    "te.set_title('Distribution of data across years')"
   ]
  },
  {
   "cell_type": "markdown",
   "metadata": {},
   "source": [
    "The train and test data distribution looks identical except the frequency."
   ]
  },
  {
   "cell_type": "code",
   "execution_count": 108,
   "metadata": {},
   "outputs": [
    {
     "data": {
      "text/plain": [
       "<AxesSubplot:xlabel='first_active_month', ylabel='Density'>"
      ]
     },
     "execution_count": 108,
     "metadata": {},
     "output_type": "execute_result"
    },
    {
     "data": {
      "image/png": "[encoded data removed]",
      "text/plain": [
       "<Figure size 432x288 with 1 Axes>"
      ]
     },
     "metadata": {
      "needs_background": "light"
     },
     "output_type": "display_data"
    }
   ],
   "source": [
    "year = pd.DatetimeIndex(train['first_active_month']).year\n",
    "sns.distplot(year)"
   ]
  },
  {
   "cell_type": "markdown",
   "metadata": {},
   "source": [
    "The dataset contains large amount of data from year 2017 but there is a sharp decline for the year 2018. This may be because as we have seen above that the train data contains data till 2018-02-01. <br>"
   ]
  },
  {
   "cell_type": "code",
   "execution_count": 23,
   "metadata": {},
   "outputs": [
    {
     "data": {
      "image/png": "[encoded data removed]",
      "text/plain": [
       "<Figure size 432x288 with 1 Axes>"
      ]
     },
     "metadata": {
      "needs_background": "light"
     },
     "output_type": "display_data"
    }
   ],
   "source": [
    "sns.boxplot(x = pd.DatetimeIndex(train['first_active_month']).year, y = 'target', data = train, showfliers = False)\n",
    "plt.xlabel('first_active_year')\n",
    "plt.ylabel('loyalty_score')\n",
    "plt.title('loyalty vs first_active_year')\n",
    "plt.show()"
   ]
  },
  {
   "cell_type": "code",
   "execution_count": 25,
   "metadata": {},
   "outputs": [
    {
     "data": {
      "text/plain": [
       "2017    130519\n",
       "2016     51277\n",
       "2015     14142\n",
       "2014      4523\n",
       "2013      1129\n",
       "2012       282\n",
       "2018        35\n",
       "2011        10\n",
       "Name: first_active_month, dtype: int64"
      ]
     },
     "execution_count": 25,
     "metadata": {},
     "output_type": "execute_result"
    }
   ],
   "source": [
    "pd.DatetimeIndex(train['first_active_month']).year.value_counts()"
   ]
  },
  {
   "cell_type": "code",
   "execution_count": 95,
   "metadata": {},
   "outputs": [
    {
     "name": "stdout",
     "output_type": "stream",
     "text": [
      "interval columns not set, guessing: ['feature_1', 'feature_2', 'feature_3', 'target']\n"
     ]
    },
    {
     "data": {
      "text/plain": [
       "<AxesSubplot:>"
      ]
     },
     "execution_count": 95,
     "metadata": {},
     "output_type": "execute_result"
    },
    {
     "data": {
      "image/png": "[encoded data removed]",
      "text/plain": [
       "<Figure size 432x288 with 2 Axes>"
      ]
     },
     "metadata": {
      "needs_background": "light"
     },
     "output_type": "display_data"
    }
   ],
   "source": [
    "sns.heatmap(train[['feature_1','feature_2','feature_3', 'target']].phik_matrix())"
   ]
  },
  {
   "cell_type": "markdown",
   "metadata": {},
   "source": [
    "It is observed that feature_1 and feature_3 are highly correlated. But since the features are anonymized, we cannot come to any conclusion. "
   ]
  },
  {
   "cell_type": "markdown",
   "metadata": {},
   "source": [
    "### 2. Explore historical transactions"
   ]
  },
  {
   "cell_type": "code",
   "execution_count": 27,
   "metadata": {},
   "outputs": [
    {
     "name": "stdout",
     "output_type": "stream",
     "text": [
      "Shape of historical transactions is : (29112361, 14)\n"
     ]
    }
   ],
   "source": [
    "print('Shape of historical transactions is :', historical_transactions.shape)"
   ]
  },
  {
   "cell_type": "code",
   "execution_count": 33,
   "metadata": {},
   "outputs": [
    {
     "data": {
      "text/html": [
       "<div>\n",
       "<style scoped>\n",
       "    .dataframe tbody tr th:only-of-type {\n",
       "        vertical-align: middle;\n",
       "    }\n",
       "\n",
       "    .dataframe tbody tr th {\n",
       "        vertical-align: top;\n",
       "    }\n",
       "\n",
       "    .dataframe thead th {\n",
       "        text-align: right;\n",
       "    }\n",
       "</style>\n",
       "<table border=\"1\" class=\"dataframe\">\n",
       "  <thead>\n",
       "    <tr style=\"text-align: right;\">\n",
       "      <th></th>\n",
       "      <th>authorized_flag</th>\n",
       "      <th>card_id</th>\n",
       "      <th>city_id</th>\n",
       "      <th>category_1</th>\n",
       "      <th>installments</th>\n",
       "      <th>category_3</th>\n",
       "      <th>merchant_category_id</th>\n",
       "      <th>merchant_id</th>\n",
       "      <th>month_lag</th>\n",
       "      <th>purchase_amount</th>\n",
       "      <th>purchase_date</th>\n",
       "      <th>category_2</th>\n",
       "      <th>state_id</th>\n",
       "      <th>subsector_id</th>\n",
       "    </tr>\n",
       "  </thead>\n",
       "  <tbody>\n",
       "    <tr>\n",
       "      <th>0</th>\n",
       "      <td>1</td>\n",
       "      <td>C_ID_4e6213e9bc</td>\n",
       "      <td>88</td>\n",
       "      <td>N</td>\n",
       "      <td>0</td>\n",
       "      <td>A</td>\n",
       "      <td>80</td>\n",
       "      <td>M_ID_e020e9b302</td>\n",
       "      <td>-8</td>\n",
       "      <td>-0.703331</td>\n",
       "      <td>2017-06-25 15:33:07</td>\n",
       "      <td>1.0</td>\n",
       "      <td>16</td>\n",
       "      <td>37</td>\n",
       "    </tr>\n",
       "    <tr>\n",
       "      <th>1</th>\n",
       "      <td>1</td>\n",
       "      <td>C_ID_4e6213e9bc</td>\n",
       "      <td>88</td>\n",
       "      <td>N</td>\n",
       "      <td>0</td>\n",
       "      <td>A</td>\n",
       "      <td>367</td>\n",
       "      <td>M_ID_86ec983688</td>\n",
       "      <td>-7</td>\n",
       "      <td>-0.733128</td>\n",
       "      <td>2017-07-15 12:10:45</td>\n",
       "      <td>1.0</td>\n",
       "      <td>16</td>\n",
       "      <td>16</td>\n",
       "    </tr>\n",
       "    <tr>\n",
       "      <th>2</th>\n",
       "      <td>1</td>\n",
       "      <td>C_ID_4e6213e9bc</td>\n",
       "      <td>88</td>\n",
       "      <td>N</td>\n",
       "      <td>0</td>\n",
       "      <td>A</td>\n",
       "      <td>80</td>\n",
       "      <td>M_ID_979ed661fc</td>\n",
       "      <td>-6</td>\n",
       "      <td>-0.720386</td>\n",
       "      <td>2017-08-09 22:04:29</td>\n",
       "      <td>1.0</td>\n",
       "      <td>16</td>\n",
       "      <td>37</td>\n",
       "    </tr>\n",
       "    <tr>\n",
       "      <th>3</th>\n",
       "      <td>1</td>\n",
       "      <td>C_ID_4e6213e9bc</td>\n",
       "      <td>88</td>\n",
       "      <td>N</td>\n",
       "      <td>0</td>\n",
       "      <td>A</td>\n",
       "      <td>560</td>\n",
       "      <td>M_ID_e6d5ae8ea6</td>\n",
       "      <td>-5</td>\n",
       "      <td>-0.735352</td>\n",
       "      <td>2017-09-02 10:06:26</td>\n",
       "      <td>1.0</td>\n",
       "      <td>16</td>\n",
       "      <td>34</td>\n",
       "    </tr>\n",
       "    <tr>\n",
       "      <th>4</th>\n",
       "      <td>1</td>\n",
       "      <td>C_ID_4e6213e9bc</td>\n",
       "      <td>88</td>\n",
       "      <td>N</td>\n",
       "      <td>0</td>\n",
       "      <td>A</td>\n",
       "      <td>80</td>\n",
       "      <td>M_ID_e020e9b302</td>\n",
       "      <td>-11</td>\n",
       "      <td>-0.722865</td>\n",
       "      <td>2017-03-10 01:14:19</td>\n",
       "      <td>1.0</td>\n",
       "      <td>16</td>\n",
       "      <td>37</td>\n",
       "    </tr>\n",
       "  </tbody>\n",
       "</table>\n",
       "</div>"
      ],
      "text/plain": [
       "  authorized_flag          card_id  city_id category_1  installments  \\\n",
       "0               1  C_ID_4e6213e9bc       88          N             0   \n",
       "1               1  C_ID_4e6213e9bc       88          N             0   \n",
       "2               1  C_ID_4e6213e9bc       88          N             0   \n",
       "3               1  C_ID_4e6213e9bc       88          N             0   \n",
       "4               1  C_ID_4e6213e9bc       88          N             0   \n",
       "\n",
       "  category_3  merchant_category_id      merchant_id  month_lag  \\\n",
       "0          A                    80  M_ID_e020e9b302         -8   \n",
       "1          A                   367  M_ID_86ec983688         -7   \n",
       "2          A                    80  M_ID_979ed661fc         -6   \n",
       "3          A                   560  M_ID_e6d5ae8ea6         -5   \n",
       "4          A                    80  M_ID_e020e9b302        -11   \n",
       "\n",
       "   purchase_amount        purchase_date  category_2  state_id  subsector_id  \n",
       "0        -0.703331  2017-06-25 15:33:07         1.0        16            37  \n",
       "1        -0.733128  2017-07-15 12:10:45         1.0        16            16  \n",
       "2        -0.720386  2017-08-09 22:04:29         1.0        16            37  \n",
       "3        -0.735352  2017-09-02 10:06:26         1.0        16            34  \n",
       "4        -0.722865  2017-03-10 01:14:19         1.0        16            37  "
      ]
     },
     "execution_count": 33,
     "metadata": {},
     "output_type": "execute_result"
    }
   ],
   "source": [
    "historical_transactions.head()"
   ]
  },
  {
   "cell_type": "code",
   "execution_count": 97,
   "metadata": {},
   "outputs": [
    {
     "data": {
      "text/plain": [
       "authorized_flag         category\n",
       "card_id                 category\n",
       "city_id                    int16\n",
       "category_1              category\n",
       "installments               int16\n",
       "category_3              category\n",
       "merchant_category_id       int16\n",
       "merchant_id             category\n",
       "month_lag                   int8\n",
       "purchase_amount          float32\n",
       "purchase_date           category\n",
       "category_2               float16\n",
       "state_id                    int8\n",
       "subsector_id                int8\n",
       "dtype: object"
      ]
     },
     "execution_count": 97,
     "metadata": {},
     "output_type": "execute_result"
    }
   ],
   "source": [
    "historical_transactions.dtypes"
   ]
  },
  {
   "cell_type": "code",
   "execution_count": 28,
   "metadata": {},
   "outputs": [
    {
     "data": {
      "text/plain": [
       "authorized_flag                2\n",
       "card_id                   325540\n",
       "city_id                      308\n",
       "category_1                     2\n",
       "installments                  15\n",
       "category_3                     4\n",
       "merchant_category_id         327\n",
       "merchant_id               326312\n",
       "month_lag                     14\n",
       "purchase_amount           215014\n",
       "purchase_date           16395300\n",
       "category_2                     6\n",
       "state_id                      25\n",
       "subsector_id                  41\n",
       "dtype: int64"
      ]
     },
     "execution_count": 28,
     "metadata": {},
     "output_type": "execute_result"
    }
   ],
   "source": [
    "historical_transactions.apply(lambda x:len(x.unique()) )"
   ]
  },
  {
   "cell_type": "code",
   "execution_count": 141,
   "metadata": {},
   "outputs": [
    {
     "data": {
      "text/plain": [
       "authorized_flag               0\n",
       "card_id                       0\n",
       "city_id                       0\n",
       "category_1                    0\n",
       "installments                  0\n",
       "category_3               178159\n",
       "merchant_category_id          0\n",
       "merchant_id              138481\n",
       "month_lag                     0\n",
       "purchase_amount               0\n",
       "purchase_date                 0\n",
       "category_2              2652864\n",
       "state_id                      0\n",
       "subsector_id                  0\n",
       "dtype: int64"
      ]
     },
     "execution_count": 141,
     "metadata": {},
     "output_type": "execute_result"
    }
   ],
   "source": [
    "historical_transactions.isnull().sum()"
   ]
  },
  {
   "cell_type": "code",
   "execution_count": 142,
   "metadata": {},
   "outputs": [
    {
     "name": "stdout",
     "output_type": "stream",
     "text": [
      "Percentage of missing values in category 3 =  0.6119702898710276\n",
      "Percentage of missing values in merchant id =  0.4756776683278969\n",
      "Percentage of missing values in category 2 =  9.1125003568072\n"
     ]
    }
   ],
   "source": [
    "print('Percentage of missing values in category 3 = ', historical_transactions['category_3'].isnull().sum()/len(historical_transactions)*100)\n",
    "print('Percentage of missing values in merchant id = ', historical_transactions['merchant_id'].isnull().sum()/len(historical_transactions)*100)\n",
    "print('Percentage of missing values in category 2 = ', historical_transactions['category_2'].isnull().sum()/len(historical_transactions)*100)"
   ]
  },
  {
   "cell_type": "markdown",
   "metadata": {},
   "source": [
    "Since nearly 9% of category 2 values are missing, we need to impute them."
   ]
  },
  {
   "cell_type": "markdown",
   "metadata": {},
   "source": [
    "#### 2.1 authorized_flag"
   ]
  },
  {
   "cell_type": "code",
   "execution_count": 29,
   "metadata": {},
   "outputs": [
    {
     "data": {
      "text/plain": [
       "<AxesSubplot:title={'center':'Authorized Flag'}>"
      ]
     },
     "execution_count": 29,
     "metadata": {},
     "output_type": "execute_result"
    },
    {
     "data": {
      "image/png": "[encoded data removed]",
      "text/plain": [
       "<Figure size 432x288 with 1 Axes>"
      ]
     },
     "metadata": {
      "needs_background": "light"
     },
     "output_type": "display_data"
    }
   ],
   "source": [
    "historical_transactions['authorized_flag'].value_counts().plot(kind = 'bar', title = 'Authorized Flag', color = ['red', 'blue'])"
   ]
  },
  {
   "cell_type": "code",
   "execution_count": 30,
   "metadata": {},
   "outputs": [
    {
     "name": "stdout",
     "output_type": "stream",
     "text": [
      "Number of authorized transactions =  26595452\n",
      "Percentage of authorized transactions =  91.0 %\n",
      "Number of unauthorized transactions =  2516909\n",
      "Percentage of unauthorized transactions =  9.0 %\n"
     ]
    }
   ],
   "source": [
    "print('Number of authorized transactions = ',historical_transactions['authorized_flag'].value_counts()['Y'])\n",
    "print('Percentage of authorized transactions = ', np.round(historical_transactions['authorized_flag'].value_counts()['Y']/len(historical_transactions),2)*100,'%')\n",
    "print('Number of unauthorized transactions = ',historical_transactions['authorized_flag'].value_counts()['N'])\n",
    "print('Percentage of unauthorized transactions = ', np.round(historical_transactions['authorized_flag'].value_counts()['N']/len(historical_transactions),2)*100,'%')"
   ]
  },
  {
   "cell_type": "markdown",
   "metadata": {},
   "source": [
    "#### 2.2 installments"
   ]
  },
  {
   "cell_type": "code",
   "execution_count": 34,
   "metadata": {},
   "outputs": [
    {
     "data": {
      "text/plain": [
       " 0      15411747\n",
       " 1      11677522\n",
       " 2        666416\n",
       " 3        538207\n",
       " 4        179525\n",
       "-1        178159\n",
       " 6        132634\n",
       " 10       118827\n",
       " 5        116090\n",
       " 12        55064\n",
       " 8         20474\n",
       " 7         10906\n",
       " 9          5772\n",
       " 11          830\n",
       " 999         188\n",
       "Name: installments, dtype: int64"
      ]
     },
     "execution_count": 34,
     "metadata": {},
     "output_type": "execute_result"
    }
   ],
   "source": [
    "historical_transactions['installments'].value_counts()"
   ]
  },
  {
   "cell_type": "markdown",
   "metadata": {},
   "source": [
    "There are a very few transactions with 999 installments. Lets look more into that."
   ]
  },
  {
   "cell_type": "code",
   "execution_count": 150,
   "metadata": {},
   "outputs": [
    {
     "name": "stdout",
     "output_type": "stream",
     "text": [
      "Percentage of unauthorized transactions =  0.9680851063829787 %\n"
     ]
    }
   ],
   "source": [
    "print('Percentage of unauthorized transactions = ',historical_transactions.groupby('installments')['authorized_flag'].value_counts()[999][0]/historical_transactions.groupby('installments')['authorized_flag'].value_counts()[999].sum(),'%')"
   ]
  },
  {
   "cell_type": "markdown",
   "metadata": {},
   "source": [
    "96% of the transactions with installment 999 is unauthorized"
   ]
  },
  {
   "cell_type": "markdown",
   "metadata": {},
   "source": [
    "#### 2.3 Anonymous features "
   ]
  },
  {
   "cell_type": "code",
   "execution_count": 42,
   "metadata": {},
   "outputs": [
    {
     "data": {
      "text/plain": [
       "<AxesSubplot:title={'center':'category_1'}>"
      ]
     },
     "execution_count": 42,
     "metadata": {},
     "output_type": "execute_result"
    },
    {
     "data": {
      "image/png": "[encoded data removed]",
      "text/plain": [
       "<Figure size 432x288 with 1 Axes>"
      ]
     },
     "metadata": {
      "needs_background": "light"
     },
     "output_type": "display_data"
    }
   ],
   "source": [
    "historical_transactions['category_1'].value_counts().plot(kind = 'bar', title= 'category_1')"
   ]
  },
  {
   "cell_type": "code",
   "execution_count": 47,
   "metadata": {},
   "outputs": [
    {
     "data": {
      "text/plain": [
       "<AxesSubplot:title={'center':'category_2'}>"
      ]
     },
     "execution_count": 47,
     "metadata": {},
     "output_type": "execute_result"
    },
    {
     "data": {
      "image/png": "[encoded data removed]",
      "text/plain": [
       "<Figure size 432x288 with 1 Axes>"
      ]
     },
     "metadata": {
      "needs_background": "light"
     },
     "output_type": "display_data"
    }
   ],
   "source": [
    "historical_transactions['category_2'].value_counts().plot(kind = 'bar', title= 'category_2')"
   ]
  },
  {
   "cell_type": "code",
   "execution_count": 48,
   "metadata": {},
   "outputs": [
    {
     "data": {
      "text/plain": [
       "<AxesSubplot:title={'center':'category_3'}>"
      ]
     },
     "execution_count": 48,
     "metadata": {},
     "output_type": "execute_result"
    },
    {
     "data": {
      "image/png": "[encoded data removed]",
      "text/plain": [
       "<Figure size 432x288 with 1 Axes>"
      ]
     },
     "metadata": {
      "needs_background": "light"
     },
     "output_type": "display_data"
    }
   ],
   "source": [
    "historical_transactions['category_3'].value_counts().plot(kind = 'bar', title= 'category_3')"
   ]
  },
  {
   "cell_type": "markdown",
   "metadata": {},
   "source": [
    "category 1 can take values Y, N <br>\n",
    "category 2 can take values 1,2,3,4,5 <br>\n",
    "category 3 can take values A,B,C"
   ]
  },
  {
   "cell_type": "markdown",
   "metadata": {},
   "source": [
    "#### 2.4 purchase_amount"
   ]
  },
  {
   "cell_type": "code",
   "execution_count": 52,
   "metadata": {},
   "outputs": [
    {
     "data": {
      "image/png": "[encoded data removed]",
      "text/plain": [
       "<Figure size 432x288 with 1 Axes>"
      ]
     },
     "metadata": {
      "needs_background": "light"
     },
     "output_type": "display_data"
    }
   ],
   "source": [
    "plt.hist(historical_transactions['purchase_amount'])\n",
    "plt.title('Histogram of purchase_amount')\n",
    "plt.show()"
   ]
  },
  {
   "cell_type": "code",
   "execution_count": 54,
   "metadata": {},
   "outputs": [
    {
     "name": "stdout",
     "output_type": "stream",
     "text": [
      "0 percentile value is -0.7469077706336975\n",
      "10 percentile value is -0.7334139943122864\n",
      "20 percentile value is -0.7246986031532288\n",
      "30 percentile value is -0.7168547511100769\n",
      "40 percentile value is -0.7037065625190735\n",
      "50 percentile value is -0.6883494853973389\n",
      "60 percentile value is -0.6704228520393372\n",
      "70 percentile value is -0.6331570744514465\n",
      "80 percentile value is -0.5710976123809814\n",
      "90 percentile value is -0.4281954765319824\n"
     ]
    }
   ],
   "source": [
    "for i in range(0,100,10):\n",
    "    print('{} percentile value is {}'.format(i, np.percentile(historical_transactions['purchase_amount'],i)))"
   ]
  },
  {
   "cell_type": "code",
   "execution_count": 58,
   "metadata": {},
   "outputs": [
    {
     "name": "stdout",
     "output_type": "stream",
     "text": [
      "91 percentile value is -0.39627915620803833\n",
      "92 percentile value is -0.3589232563972473\n",
      "93 percentile value is -0.3105379045009613\n",
      "94 percentile value is -0.2519645392894745\n",
      "95 percentile value is -0.1686124950647354\n",
      "96 percentile value is -0.05286327004432678\n",
      "97 percentile value is 0.13003942370414734\n",
      "98 percentile value is 0.45521315932273865\n",
      "99 percentile value is 1.2208409547805337\n",
      "100 percentile value is 6010604.0\n"
     ]
    }
   ],
   "source": [
    "for i in range(91,101):\n",
    "    print('{} percentile value is {}'.format(i, np.percentile(historical_transactions['purchase_amount'],i)))"
   ]
  },
  {
   "cell_type": "markdown",
   "metadata": {},
   "source": [
    "100 th percentile value is 6010604.0 which may be an outlier."
   ]
  },
  {
   "cell_type": "markdown",
   "metadata": {},
   "source": [
    "To do the analysis of how the features in historical transactions affect the loyalty scores, we need to merge the historical transactions and train data"
   ]
  },
  {
   "cell_type": "code",
   "execution_count": 39,
   "metadata": {},
   "outputs": [
    {
     "data": {
      "text/html": [
       "<div>\n",
       "<style scoped>\n",
       "    .dataframe tbody tr th:only-of-type {\n",
       "        vertical-align: middle;\n",
       "    }\n",
       "\n",
       "    .dataframe tbody tr th {\n",
       "        vertical-align: top;\n",
       "    }\n",
       "\n",
       "    .dataframe thead th {\n",
       "        text-align: right;\n",
       "    }\n",
       "</style>\n",
       "<table border=\"1\" class=\"dataframe\">\n",
       "  <thead>\n",
       "    <tr style=\"text-align: right;\">\n",
       "      <th></th>\n",
       "      <th>first_active_month</th>\n",
       "      <th>card_id</th>\n",
       "      <th>feature_1</th>\n",
       "      <th>feature_2</th>\n",
       "      <th>feature_3</th>\n",
       "      <th>target</th>\n",
       "      <th>no_of_transactions</th>\n",
       "    </tr>\n",
       "  </thead>\n",
       "  <tbody>\n",
       "    <tr>\n",
       "      <th>0</th>\n",
       "      <td>2017-06-01</td>\n",
       "      <td>C_ID_92a2005557</td>\n",
       "      <td>5</td>\n",
       "      <td>2</td>\n",
       "      <td>1</td>\n",
       "      <td>-0.820283</td>\n",
       "      <td>260</td>\n",
       "    </tr>\n",
       "    <tr>\n",
       "      <th>1</th>\n",
       "      <td>2017-01-01</td>\n",
       "      <td>C_ID_3d0044924f</td>\n",
       "      <td>4</td>\n",
       "      <td>1</td>\n",
       "      <td>0</td>\n",
       "      <td>0.392913</td>\n",
       "      <td>350</td>\n",
       "    </tr>\n",
       "    <tr>\n",
       "      <th>2</th>\n",
       "      <td>2016-08-01</td>\n",
       "      <td>C_ID_d639edf6cd</td>\n",
       "      <td>2</td>\n",
       "      <td>2</td>\n",
       "      <td>0</td>\n",
       "      <td>0.688056</td>\n",
       "      <td>43</td>\n",
       "    </tr>\n",
       "    <tr>\n",
       "      <th>3</th>\n",
       "      <td>2017-09-01</td>\n",
       "      <td>C_ID_186d6a6901</td>\n",
       "      <td>4</td>\n",
       "      <td>3</td>\n",
       "      <td>0</td>\n",
       "      <td>0.142495</td>\n",
       "      <td>77</td>\n",
       "    </tr>\n",
       "    <tr>\n",
       "      <th>4</th>\n",
       "      <td>2017-11-01</td>\n",
       "      <td>C_ID_cdbd2c0db2</td>\n",
       "      <td>1</td>\n",
       "      <td>3</td>\n",
       "      <td>0</td>\n",
       "      <td>-0.159749</td>\n",
       "      <td>133</td>\n",
       "    </tr>\n",
       "  </tbody>\n",
       "</table>\n",
       "</div>"
      ],
      "text/plain": [
       "  first_active_month          card_id  feature_1  feature_2  feature_3  \\\n",
       "0         2017-06-01  C_ID_92a2005557          5          2          1   \n",
       "1         2017-01-01  C_ID_3d0044924f          4          1          0   \n",
       "2         2016-08-01  C_ID_d639edf6cd          2          2          0   \n",
       "3         2017-09-01  C_ID_186d6a6901          4          3          0   \n",
       "4         2017-11-01  C_ID_cdbd2c0db2          1          3          0   \n",
       "\n",
       "     target  no_of_transactions  \n",
       "0 -0.820283                 260  \n",
       "1  0.392913                 350  \n",
       "2  0.688056                  43  \n",
       "3  0.142495                  77  \n",
       "4 -0.159749                 133  "
      ]
     },
     "execution_count": 39,
     "metadata": {},
     "output_type": "execute_result"
    }
   ],
   "source": [
    "group_1 = historical_transactions.groupby('card_id').size().reset_index()\n",
    "group_1.columns = ['card_id', 'no_of_transactions']\n",
    "train_merge_1 = pd.merge(train, group_1, on = 'card_id', how = 'left')\n",
    "train_merge_1.head()"
   ]
  },
  {
   "cell_type": "code",
   "execution_count": 48,
   "metadata": {},
   "outputs": [
    {
     "data": {
      "image/png": "[encoded data removed]",
      "text/plain": [
       "<Figure size 864x432 with 1 Axes>"
      ]
     },
     "metadata": {
      "needs_background": "light"
     },
     "output_type": "display_data"
    }
   ],
   "source": [
    "plt.figure(figsize = (12,6))\n",
    "bins = np.percentile(train_merge_1['no_of_transactions'], range(0,101,10))\n",
    "train_merge_1['binned_no_of_trans'] = pd.cut(train_merge_1['no_of_transactions'], bins)\n",
    "sns.boxplot(x = 'binned_no_of_trans', y = 'target', data = train_merge_1, showfliers = False)\n",
    "plt.xlabel('No.of transactions')\n",
    "plt.ylabel('Loyalty Score')\n",
    "plt.title('Loyalty vs no.of transactions')\n",
    "plt.show()"
   ]
  },
  {
   "cell_type": "markdown",
   "metadata": {},
   "source": [
    "It can be observed that as the no.of transactions increases, loyalty score is decreasing."
   ]
  },
  {
   "cell_type": "code",
   "execution_count": 49,
   "metadata": {},
   "outputs": [
    {
     "data": {
      "text/html": [
       "<div>\n",
       "<style scoped>\n",
       "    .dataframe tbody tr th:only-of-type {\n",
       "        vertical-align: middle;\n",
       "    }\n",
       "\n",
       "    .dataframe tbody tr th {\n",
       "        vertical-align: top;\n",
       "    }\n",
       "\n",
       "    .dataframe thead th {\n",
       "        text-align: right;\n",
       "    }\n",
       "</style>\n",
       "<table border=\"1\" class=\"dataframe\">\n",
       "  <thead>\n",
       "    <tr style=\"text-align: right;\">\n",
       "      <th></th>\n",
       "      <th>first_active_month</th>\n",
       "      <th>card_id</th>\n",
       "      <th>feature_1</th>\n",
       "      <th>feature_2</th>\n",
       "      <th>feature_3</th>\n",
       "      <th>target</th>\n",
       "      <th>sum_of_purchase_amount</th>\n",
       "    </tr>\n",
       "  </thead>\n",
       "  <tbody>\n",
       "    <tr>\n",
       "      <th>0</th>\n",
       "      <td>2017-06-01</td>\n",
       "      <td>C_ID_92a2005557</td>\n",
       "      <td>5</td>\n",
       "      <td>2</td>\n",
       "      <td>1</td>\n",
       "      <td>-0.820283</td>\n",
       "      <td>-165.968735</td>\n",
       "    </tr>\n",
       "    <tr>\n",
       "      <th>1</th>\n",
       "      <td>2017-01-01</td>\n",
       "      <td>C_ID_3d0044924f</td>\n",
       "      <td>4</td>\n",
       "      <td>1</td>\n",
       "      <td>0</td>\n",
       "      <td>0.392913</td>\n",
       "      <td>-210.006332</td>\n",
       "    </tr>\n",
       "    <tr>\n",
       "      <th>2</th>\n",
       "      <td>2016-08-01</td>\n",
       "      <td>C_ID_d639edf6cd</td>\n",
       "      <td>2</td>\n",
       "      <td>2</td>\n",
       "      <td>0</td>\n",
       "      <td>0.688056</td>\n",
       "      <td>-29.167391</td>\n",
       "    </tr>\n",
       "    <tr>\n",
       "      <th>3</th>\n",
       "      <td>2017-09-01</td>\n",
       "      <td>C_ID_186d6a6901</td>\n",
       "      <td>4</td>\n",
       "      <td>3</td>\n",
       "      <td>0</td>\n",
       "      <td>0.142495</td>\n",
       "      <td>-49.491364</td>\n",
       "    </tr>\n",
       "    <tr>\n",
       "      <th>4</th>\n",
       "      <td>2017-11-01</td>\n",
       "      <td>C_ID_cdbd2c0db2</td>\n",
       "      <td>1</td>\n",
       "      <td>3</td>\n",
       "      <td>0</td>\n",
       "      <td>-0.159749</td>\n",
       "      <td>-48.687656</td>\n",
       "    </tr>\n",
       "  </tbody>\n",
       "</table>\n",
       "</div>"
      ],
      "text/plain": [
       "  first_active_month          card_id  feature_1  feature_2  feature_3  \\\n",
       "0         2017-06-01  C_ID_92a2005557          5          2          1   \n",
       "1         2017-01-01  C_ID_3d0044924f          4          1          0   \n",
       "2         2016-08-01  C_ID_d639edf6cd          2          2          0   \n",
       "3         2017-09-01  C_ID_186d6a6901          4          3          0   \n",
       "4         2017-11-01  C_ID_cdbd2c0db2          1          3          0   \n",
       "\n",
       "     target  sum_of_purchase_amount  \n",
       "0 -0.820283             -165.968735  \n",
       "1  0.392913             -210.006332  \n",
       "2  0.688056              -29.167391  \n",
       "3  0.142495              -49.491364  \n",
       "4 -0.159749              -48.687656  "
      ]
     },
     "execution_count": 49,
     "metadata": {},
     "output_type": "execute_result"
    }
   ],
   "source": [
    "group_2 = historical_transactions.groupby('card_id')['purchase_amount'].sum().reset_index()\n",
    "group_2.columns = ['card_id', 'sum_of_purchase_amount']\n",
    "train_merge_2 = pd.merge(train, group_2, on = 'card_id', how = 'left')\n",
    "train_merge_2.head()"
   ]
  },
  {
   "cell_type": "code",
   "execution_count": 55,
   "metadata": {},
   "outputs": [
    {
     "data": {
      "image/png": "[encoded data removed]",
      "text/plain": [
       "<Figure size 1368x432 with 1 Axes>"
      ]
     },
     "metadata": {
      "needs_background": "light"
     },
     "output_type": "display_data"
    }
   ],
   "source": [
    "plt.figure(figsize = (19,6))\n",
    "bins = np.percentile(train_merge_2['sum_of_purchase_amount'], range(0,101,10))\n",
    "train_merge_2['binned_sum_of_purchase'] = pd.cut(train_merge_2['sum_of_purchase_amount'], bins)\n",
    "sns.boxplot(x = 'binned_sum_of_purchase', y = 'target', data = train_merge_2, showfliers = False)\n",
    "plt.xlabel('Sum of purchase amount')\n",
    "plt.ylabel('Loyalty Score')\n",
    "plt.title('Loyalty vs Sum of transactions')\n",
    "plt.show()"
   ]
  },
  {
   "cell_type": "markdown",
   "metadata": {},
   "source": [
    "It can be seen that as the sum of purchase amounts increase, loyalty score is also increasing."
   ]
  },
  {
   "cell_type": "code",
   "execution_count": 56,
   "metadata": {},
   "outputs": [
    {
     "data": {
      "text/html": [
       "<div>\n",
       "<style scoped>\n",
       "    .dataframe tbody tr th:only-of-type {\n",
       "        vertical-align: middle;\n",
       "    }\n",
       "\n",
       "    .dataframe tbody tr th {\n",
       "        vertical-align: top;\n",
       "    }\n",
       "\n",
       "    .dataframe thead th {\n",
       "        text-align: right;\n",
       "    }\n",
       "</style>\n",
       "<table border=\"1\" class=\"dataframe\">\n",
       "  <thead>\n",
       "    <tr style=\"text-align: right;\">\n",
       "      <th></th>\n",
       "      <th>first_active_month</th>\n",
       "      <th>card_id</th>\n",
       "      <th>feature_1</th>\n",
       "      <th>feature_2</th>\n",
       "      <th>feature_3</th>\n",
       "      <th>target</th>\n",
       "      <th>sum_of_installments</th>\n",
       "    </tr>\n",
       "  </thead>\n",
       "  <tbody>\n",
       "    <tr>\n",
       "      <th>0</th>\n",
       "      <td>2017-06-01</td>\n",
       "      <td>C_ID_92a2005557</td>\n",
       "      <td>5</td>\n",
       "      <td>2</td>\n",
       "      <td>1</td>\n",
       "      <td>-0.820283</td>\n",
       "      <td>4</td>\n",
       "    </tr>\n",
       "    <tr>\n",
       "      <th>1</th>\n",
       "      <td>2017-01-01</td>\n",
       "      <td>C_ID_3d0044924f</td>\n",
       "      <td>4</td>\n",
       "      <td>1</td>\n",
       "      <td>0</td>\n",
       "      <td>0.392913</td>\n",
       "      <td>543</td>\n",
       "    </tr>\n",
       "    <tr>\n",
       "      <th>2</th>\n",
       "      <td>2016-08-01</td>\n",
       "      <td>C_ID_d639edf6cd</td>\n",
       "      <td>2</td>\n",
       "      <td>2</td>\n",
       "      <td>0</td>\n",
       "      <td>0.688056</td>\n",
       "      <td>0</td>\n",
       "    </tr>\n",
       "    <tr>\n",
       "      <th>3</th>\n",
       "      <td>2017-09-01</td>\n",
       "      <td>C_ID_186d6a6901</td>\n",
       "      <td>4</td>\n",
       "      <td>3</td>\n",
       "      <td>0</td>\n",
       "      <td>0.142495</td>\n",
       "      <td>84</td>\n",
       "    </tr>\n",
       "    <tr>\n",
       "      <th>4</th>\n",
       "      <td>2017-11-01</td>\n",
       "      <td>C_ID_cdbd2c0db2</td>\n",
       "      <td>1</td>\n",
       "      <td>3</td>\n",
       "      <td>0</td>\n",
       "      <td>-0.159749</td>\n",
       "      <td>182</td>\n",
       "    </tr>\n",
       "  </tbody>\n",
       "</table>\n",
       "</div>"
      ],
      "text/plain": [
       "  first_active_month          card_id  feature_1  feature_2  feature_3  \\\n",
       "0         2017-06-01  C_ID_92a2005557          5          2          1   \n",
       "1         2017-01-01  C_ID_3d0044924f          4          1          0   \n",
       "2         2016-08-01  C_ID_d639edf6cd          2          2          0   \n",
       "3         2017-09-01  C_ID_186d6a6901          4          3          0   \n",
       "4         2017-11-01  C_ID_cdbd2c0db2          1          3          0   \n",
       "\n",
       "     target  sum_of_installments  \n",
       "0 -0.820283                    4  \n",
       "1  0.392913                  543  \n",
       "2  0.688056                    0  \n",
       "3  0.142495                   84  \n",
       "4 -0.159749                  182  "
      ]
     },
     "execution_count": 56,
     "metadata": {},
     "output_type": "execute_result"
    }
   ],
   "source": [
    "group_3 = historical_transactions.groupby('card_id')['installments'].sum().reset_index()\n",
    "group_3.columns = ['card_id', 'sum_of_installments']\n",
    "train_merge_3 = pd.merge(train, group_3, on = 'card_id', how = 'left')\n",
    "train_merge_3.head()"
   ]
  },
  {
   "cell_type": "code",
   "execution_count": 58,
   "metadata": {},
   "outputs": [
    {
     "data": {
      "image/png": "[encoded data removed]",
      "text/plain": [
       "<Figure size 1368x432 with 1 Axes>"
      ]
     },
     "metadata": {
      "needs_background": "light"
     },
     "output_type": "display_data"
    }
   ],
   "source": [
    "plt.figure(figsize = (19,6))\n",
    "bins = np.percentile(train_merge_3['sum_of_installments'], range(0,101,10))\n",
    "train_merge_3['binned_sum_of_installments'] = pd.cut(train_merge_3['sum_of_installments'], bins, duplicates = 'drop')\n",
    "sns.boxplot(x = 'binned_sum_of_installments', y = 'target', data = train_merge_3, showfliers = False)\n",
    "plt.xlabel('Sum of installments')\n",
    "plt.ylabel('Loyalty Score')\n",
    "plt.title('Loyalty vs Sum of installments')\n",
    "plt.show()"
   ]
  },
  {
   "cell_type": "code",
   "execution_count": 61,
   "metadata": {},
   "outputs": [
    {
     "data": {
      "image/png": "[encoded data removed]",
      "text/plain": [
       "<Figure size 432x288 with 1 Axes>"
      ]
     },
     "metadata": {
      "needs_background": "light"
     },
     "output_type": "display_data"
    }
   ],
   "source": [
    "sns.scatterplot(x = train_merge_3['target'], y = train_merge_3['sum_of_installments'])\n",
    "plt.show()"
   ]
  },
  {
   "cell_type": "markdown",
   "metadata": {},
   "source": [
    "From the above box plot and scatter plot it is clear that as installmets increases, loyalty score is reducing."
   ]
  },
  {
   "cell_type": "markdown",
   "metadata": {},
   "source": [
    "### 3. merchants data"
   ]
  },
  {
   "cell_type": "code",
   "execution_count": 5,
   "metadata": {
    "scrolled": true
   },
   "outputs": [
    {
     "data": {
      "text/html": [
       "<div>\n",
       "<style scoped>\n",
       "    .dataframe tbody tr th:only-of-type {\n",
       "        vertical-align: middle;\n",
       "    }\n",
       "\n",
       "    .dataframe tbody tr th {\n",
       "        vertical-align: top;\n",
       "    }\n",
       "\n",
       "    .dataframe thead th {\n",
       "        text-align: right;\n",
       "    }\n",
       "</style>\n",
       "<table border=\"1\" class=\"dataframe\">\n",
       "  <thead>\n",
       "    <tr style=\"text-align: right;\">\n",
       "      <th></th>\n",
       "      <th>0</th>\n",
       "      <th>1</th>\n",
       "      <th>2</th>\n",
       "      <th>3</th>\n",
       "      <th>4</th>\n",
       "    </tr>\n",
       "  </thead>\n",
       "  <tbody>\n",
       "    <tr>\n",
       "      <th>merchant_id</th>\n",
       "      <td>M_ID_838061e48c</td>\n",
       "      <td>M_ID_9339d880ad</td>\n",
       "      <td>M_ID_e726bbae1e</td>\n",
       "      <td>M_ID_a70e9c5f81</td>\n",
       "      <td>M_ID_64456c37ce</td>\n",
       "    </tr>\n",
       "    <tr>\n",
       "      <th>merchant_group_id</th>\n",
       "      <td>8353</td>\n",
       "      <td>3184</td>\n",
       "      <td>447</td>\n",
       "      <td>5026</td>\n",
       "      <td>2228</td>\n",
       "    </tr>\n",
       "    <tr>\n",
       "      <th>merchant_category_id</th>\n",
       "      <td>792</td>\n",
       "      <td>840</td>\n",
       "      <td>690</td>\n",
       "      <td>792</td>\n",
       "      <td>222</td>\n",
       "    </tr>\n",
       "    <tr>\n",
       "      <th>subsector_id</th>\n",
       "      <td>9</td>\n",
       "      <td>20</td>\n",
       "      <td>1</td>\n",
       "      <td>9</td>\n",
       "      <td>21</td>\n",
       "    </tr>\n",
       "    <tr>\n",
       "      <th>numerical_1</th>\n",
       "      <td>-0.0574706</td>\n",
       "      <td>-0.0574706</td>\n",
       "      <td>-0.0574706</td>\n",
       "      <td>-0.0574706</td>\n",
       "      <td>-0.0574706</td>\n",
       "    </tr>\n",
       "    <tr>\n",
       "      <th>numerical_2</th>\n",
       "      <td>-0.0574706</td>\n",
       "      <td>-0.0574706</td>\n",
       "      <td>-0.0574706</td>\n",
       "      <td>-0.0574706</td>\n",
       "      <td>-0.0574706</td>\n",
       "    </tr>\n",
       "    <tr>\n",
       "      <th>category_1</th>\n",
       "      <td>N</td>\n",
       "      <td>N</td>\n",
       "      <td>N</td>\n",
       "      <td>Y</td>\n",
       "      <td>Y</td>\n",
       "    </tr>\n",
       "    <tr>\n",
       "      <th>most_recent_sales_range</th>\n",
       "      <td>E</td>\n",
       "      <td>E</td>\n",
       "      <td>E</td>\n",
       "      <td>E</td>\n",
       "      <td>E</td>\n",
       "    </tr>\n",
       "    <tr>\n",
       "      <th>most_recent_purchases_range</th>\n",
       "      <td>E</td>\n",
       "      <td>E</td>\n",
       "      <td>E</td>\n",
       "      <td>E</td>\n",
       "      <td>E</td>\n",
       "    </tr>\n",
       "    <tr>\n",
       "      <th>avg_sales_lag3</th>\n",
       "      <td>-0.4</td>\n",
       "      <td>-0.72</td>\n",
       "      <td>-82.13</td>\n",
       "      <td>NaN</td>\n",
       "      <td>NaN</td>\n",
       "    </tr>\n",
       "    <tr>\n",
       "      <th>avg_purchases_lag3</th>\n",
       "      <td>9.66667</td>\n",
       "      <td>1.75</td>\n",
       "      <td>260</td>\n",
       "      <td>1.66667</td>\n",
       "      <td>0.5</td>\n",
       "    </tr>\n",
       "    <tr>\n",
       "      <th>active_months_lag3</th>\n",
       "      <td>3</td>\n",
       "      <td>3</td>\n",
       "      <td>2</td>\n",
       "      <td>3</td>\n",
       "      <td>3</td>\n",
       "    </tr>\n",
       "    <tr>\n",
       "      <th>avg_sales_lag6</th>\n",
       "      <td>-2.25</td>\n",
       "      <td>-0.74</td>\n",
       "      <td>-82.13</td>\n",
       "      <td>NaN</td>\n",
       "      <td>NaN</td>\n",
       "    </tr>\n",
       "    <tr>\n",
       "      <th>avg_purchases_lag6</th>\n",
       "      <td>18.6667</td>\n",
       "      <td>1.29167</td>\n",
       "      <td>260</td>\n",
       "      <td>4.66667</td>\n",
       "      <td>0.361111</td>\n",
       "    </tr>\n",
       "    <tr>\n",
       "      <th>active_months_lag6</th>\n",
       "      <td>6</td>\n",
       "      <td>6</td>\n",
       "      <td>2</td>\n",
       "      <td>6</td>\n",
       "      <td>6</td>\n",
       "    </tr>\n",
       "    <tr>\n",
       "      <th>avg_sales_lag12</th>\n",
       "      <td>-2.32</td>\n",
       "      <td>-0.57</td>\n",
       "      <td>-82.13</td>\n",
       "      <td>NaN</td>\n",
       "      <td>NaN</td>\n",
       "    </tr>\n",
       "    <tr>\n",
       "      <th>avg_purchases_lag12</th>\n",
       "      <td>13.9167</td>\n",
       "      <td>1.6875</td>\n",
       "      <td>260</td>\n",
       "      <td>3.83333</td>\n",
       "      <td>0.347222</td>\n",
       "    </tr>\n",
       "    <tr>\n",
       "      <th>active_months_lag12</th>\n",
       "      <td>12</td>\n",
       "      <td>12</td>\n",
       "      <td>2</td>\n",
       "      <td>12</td>\n",
       "      <td>12</td>\n",
       "    </tr>\n",
       "    <tr>\n",
       "      <th>category_4</th>\n",
       "      <td>N</td>\n",
       "      <td>N</td>\n",
       "      <td>N</td>\n",
       "      <td>Y</td>\n",
       "      <td>Y</td>\n",
       "    </tr>\n",
       "    <tr>\n",
       "      <th>city_id</th>\n",
       "      <td>242</td>\n",
       "      <td>22</td>\n",
       "      <td>-1</td>\n",
       "      <td>-1</td>\n",
       "      <td>-1</td>\n",
       "    </tr>\n",
       "    <tr>\n",
       "      <th>state_id</th>\n",
       "      <td>9</td>\n",
       "      <td>16</td>\n",
       "      <td>5</td>\n",
       "      <td>-1</td>\n",
       "      <td>-1</td>\n",
       "    </tr>\n",
       "    <tr>\n",
       "      <th>category_2</th>\n",
       "      <td>1</td>\n",
       "      <td>1</td>\n",
       "      <td>5</td>\n",
       "      <td>NaN</td>\n",
       "      <td>NaN</td>\n",
       "    </tr>\n",
       "  </tbody>\n",
       "</table>\n",
       "</div>"
      ],
      "text/plain": [
       "                                           0                1  \\\n",
       "merchant_id                  M_ID_838061e48c  M_ID_9339d880ad   \n",
       "merchant_group_id                       8353             3184   \n",
       "merchant_category_id                     792              840   \n",
       "subsector_id                               9               20   \n",
       "numerical_1                       -0.0574706       -0.0574706   \n",
       "numerical_2                       -0.0574706       -0.0574706   \n",
       "category_1                                 N                N   \n",
       "most_recent_sales_range                    E                E   \n",
       "most_recent_purchases_range                E                E   \n",
       "avg_sales_lag3                          -0.4            -0.72   \n",
       "avg_purchases_lag3                   9.66667             1.75   \n",
       "active_months_lag3                         3                3   \n",
       "avg_sales_lag6                         -2.25            -0.74   \n",
       "avg_purchases_lag6                   18.6667          1.29167   \n",
       "active_months_lag6                         6                6   \n",
       "avg_sales_lag12                        -2.32            -0.57   \n",
       "avg_purchases_lag12                  13.9167           1.6875   \n",
       "active_months_lag12                       12               12   \n",
       "category_4                                 N                N   \n",
       "city_id                                  242               22   \n",
       "state_id                                   9               16   \n",
       "category_2                                 1                1   \n",
       "\n",
       "                                           2                3                4  \n",
       "merchant_id                  M_ID_e726bbae1e  M_ID_a70e9c5f81  M_ID_64456c37ce  \n",
       "merchant_group_id                        447             5026             2228  \n",
       "merchant_category_id                     690              792              222  \n",
       "subsector_id                               1                9               21  \n",
       "numerical_1                       -0.0574706       -0.0574706       -0.0574706  \n",
       "numerical_2                       -0.0574706       -0.0574706       -0.0574706  \n",
       "category_1                                 N                Y                Y  \n",
       "most_recent_sales_range                    E                E                E  \n",
       "most_recent_purchases_range                E                E                E  \n",
       "avg_sales_lag3                        -82.13              NaN              NaN  \n",
       "avg_purchases_lag3                       260          1.66667              0.5  \n",
       "active_months_lag3                         2                3                3  \n",
       "avg_sales_lag6                        -82.13              NaN              NaN  \n",
       "avg_purchases_lag6                       260          4.66667         0.361111  \n",
       "active_months_lag6                         2                6                6  \n",
       "avg_sales_lag12                       -82.13              NaN              NaN  \n",
       "avg_purchases_lag12                      260          3.83333         0.347222  \n",
       "active_months_lag12                        2               12               12  \n",
       "category_4                                 N                Y                Y  \n",
       "city_id                                   -1               -1               -1  \n",
       "state_id                                   5               -1               -1  \n",
       "category_2                                 5              NaN              NaN  "
      ]
     },
     "execution_count": 5,
     "metadata": {},
     "output_type": "execute_result"
    }
   ],
   "source": [
    "merchants = pd.read_csv('merchants.csv')\n",
    "merchants.head().T"
   ]
  },
  {
   "cell_type": "code",
   "execution_count": 78,
   "metadata": {},
   "outputs": [
    {
     "name": "stdout",
     "output_type": "stream",
     "text": [
      "Shape of merchants data is  (334696, 22)\n"
     ]
    }
   ],
   "source": [
    "print('Shape of merchants data is ',merchants.shape)"
   ]
  },
  {
   "cell_type": "code",
   "execution_count": 79,
   "metadata": {},
   "outputs": [
    {
     "data": {
      "text/plain": [
       "merchant_id                        0\n",
       "merchant_group_id                  0\n",
       "merchant_category_id               0\n",
       "subsector_id                       0\n",
       "numerical_1                        0\n",
       "numerical_2                        0\n",
       "category_1                         0\n",
       "most_recent_sales_range            0\n",
       "most_recent_purchases_range        0\n",
       "avg_sales_lag3                    13\n",
       "avg_purchases_lag3                 0\n",
       "active_months_lag3                 0\n",
       "avg_sales_lag6                    13\n",
       "avg_purchases_lag6                 0\n",
       "active_months_lag6                 0\n",
       "avg_sales_lag12                   13\n",
       "avg_purchases_lag12                0\n",
       "active_months_lag12                0\n",
       "category_4                         0\n",
       "city_id                            0\n",
       "state_id                           0\n",
       "category_2                     11887\n",
       "dtype: int64"
      ]
     },
     "execution_count": 79,
     "metadata": {},
     "output_type": "execute_result"
    }
   ],
   "source": [
    "merchants.isnull().sum()"
   ]
  },
  {
   "cell_type": "code",
   "execution_count": 80,
   "metadata": {},
   "outputs": [
    {
     "name": "stdout",
     "output_type": "stream",
     "text": [
      "Percentage of missing values in avg_sales_lag3 is 0.0038841217104476898\n",
      "Percentage of missing values in avg_sales_lag6 is 0.0038841217104476898\n",
      "Percentage of missing values in avg_sales_lag12 is 0.0038841217104476898\n",
      "Percentage of missing values in category_2 is 3.551581136314745\n"
     ]
    }
   ],
   "source": [
    "col = ['avg_sales_lag3', 'avg_sales_lag6', 'avg_sales_lag12', 'category_2']\n",
    "for c in col:\n",
    "    print('Percentage of missing values in {} is {}'.format(c, merchants[c].isnull().sum()/len(merchants[c])*100))"
   ]
  },
  {
   "cell_type": "markdown",
   "metadata": {},
   "source": [
    "#### 3.1 numerical_1 and numerical_2"
   ]
  },
  {
   "cell_type": "code",
   "execution_count": 81,
   "metadata": {},
   "outputs": [
    {
     "name": "stdout",
     "output_type": "stream",
     "text": [
      "count    334696.000000\n",
      "mean          0.011476\n",
      "std           1.098154\n",
      "min          -0.057471\n",
      "25%          -0.057471\n",
      "50%          -0.057471\n",
      "75%          -0.047556\n",
      "max         183.735111\n",
      "Name: numerical_1, dtype: float64\n",
      "count    334696.000000\n",
      "mean          0.008103\n",
      "std           1.070497\n",
      "min          -0.057471\n",
      "25%          -0.057471\n",
      "50%          -0.057471\n",
      "75%          -0.047556\n",
      "max         182.079322\n",
      "Name: numerical_2, dtype: float64\n"
     ]
    }
   ],
   "source": [
    "print(merchants['numerical_1'].describe())\n",
    "print(merchants['numerical_2'].describe())"
   ]
  },
  {
   "cell_type": "markdown",
   "metadata": {},
   "source": [
    "The statistical features of numerical_1 and numerical_2 looks identical"
   ]
  },
  {
   "cell_type": "code",
   "execution_count": 82,
   "metadata": {},
   "outputs": [
    {
     "data": {
      "text/plain": [
       "-0.057471     228788\n",
       "-0.047556      41528\n",
       "-0.037641      15689\n",
       "-0.027726       8297\n",
       "-0.017811       5249\n",
       "               ...  \n",
       " 9.153475          1\n",
       " 4.374492          1\n",
       " 8.836199          1\n",
       " 53.641651         1\n",
       " 9.589731          1\n",
       "Name: numerical_1, Length: 954, dtype: int64"
      ]
     },
     "execution_count": 82,
     "metadata": {},
     "output_type": "execute_result"
    }
   ],
   "source": [
    "merchants['numerical_1'].value_counts()"
   ]
  },
  {
   "cell_type": "markdown",
   "metadata": {},
   "source": [
    "Lets try plotting the box plot of these features"
   ]
  },
  {
   "cell_type": "code",
   "execution_count": 83,
   "metadata": {},
   "outputs": [
    {
     "data": {
      "text/plain": [
       "<AxesSubplot:>"
      ]
     },
     "execution_count": 83,
     "metadata": {},
     "output_type": "execute_result"
    },
    {
     "data": {
      "image/png": "[encoded data removed]",
      "text/plain": [
       "<Figure size 720x360 with 2 Axes>"
      ]
     },
     "metadata": {
      "needs_background": "light"
     },
     "output_type": "display_data"
    }
   ],
   "source": [
    "fig,ax = plt.subplots(1,2, figsize = (10,5))\n",
    "merchants['numerical_1'].plot(kind = 'box', showfliers = False, ax = ax[0])\n",
    "merchants['numerical_2'].plot(kind = 'box', showfliers = False, ax = ax[1])"
   ]
  },
  {
   "cell_type": "markdown",
   "metadata": {},
   "source": [
    "The box plot of these features look identical. However since these features are anonymous we cannot come to any conclusion."
   ]
  },
  {
   "cell_type": "markdown",
   "metadata": {},
   "source": [
    "#### 3.2 category_1, category_2 and category_4"
   ]
  },
  {
   "cell_type": "code",
   "execution_count": 84,
   "metadata": {},
   "outputs": [
    {
     "data": {
      "text/plain": [
       "<AxesSubplot:title={'center':'category_1'}>"
      ]
     },
     "execution_count": 84,
     "metadata": {},
     "output_type": "execute_result"
    },
    {
     "data": {
      "image/png": "[encoded data removed]",
      "text/plain": [
       "<Figure size 432x288 with 1 Axes>"
      ]
     },
     "metadata": {
      "needs_background": "light"
     },
     "output_type": "display_data"
    }
   ],
   "source": [
    "merchants['category_1'].value_counts().plot(kind = 'bar', title = 'category_1')"
   ]
  },
  {
   "cell_type": "code",
   "execution_count": 85,
   "metadata": {},
   "outputs": [
    {
     "data": {
      "text/plain": [
       "<AxesSubplot:title={'center':'category_2'}>"
      ]
     },
     "execution_count": 85,
     "metadata": {},
     "output_type": "execute_result"
    },
    {
     "data": {
      "image/png": "[encoded data removed]",
      "text/plain": [
       "<Figure size 432x288 with 1 Axes>"
      ]
     },
     "metadata": {
      "needs_background": "light"
     },
     "output_type": "display_data"
    }
   ],
   "source": [
    "merchants['category_2'].value_counts().plot(kind = 'bar', title = 'category_2')"
   ]
  },
  {
   "cell_type": "code",
   "execution_count": 86,
   "metadata": {},
   "outputs": [
    {
     "data": {
      "text/plain": [
       "<AxesSubplot:title={'center':'category_4'}>"
      ]
     },
     "execution_count": 86,
     "metadata": {},
     "output_type": "execute_result"
    },
    {
     "data": {
      "image/png": "[encoded data removed]",
      "text/plain": [
       "<Figure size 432x288 with 1 Axes>"
      ]
     },
     "metadata": {
      "needs_background": "light"
     },
     "output_type": "display_data"
    }
   ],
   "source": [
    "merchants['category_4'].value_counts().plot(kind = 'bar', title = 'category_4')"
   ]
  },
  {
   "cell_type": "markdown",
   "metadata": {},
   "source": [
    "1. category_1 can take values Y,N.\n",
    "2. category_2 can take values 1,2,3,4,5.\n",
    "3. catgory_4 can take values Y,N.\n"
   ]
  },
  {
   "cell_type": "markdown",
   "metadata": {},
   "source": [
    "#### 3.3 sales ranges"
   ]
  },
  {
   "cell_type": "code",
   "execution_count": 87,
   "metadata": {},
   "outputs": [
    {
     "data": {
      "text/plain": [
       "<AxesSubplot:title={'center':'most_recent_purchases_range'}>"
      ]
     },
     "execution_count": 87,
     "metadata": {},
     "output_type": "execute_result"
    },
    {
     "data": {
      "image/png": "[encoded data removed]",
      "text/plain": [
       "<Figure size 720x432 with 2 Axes>"
      ]
     },
     "metadata": {
      "needs_background": "light"
     },
     "output_type": "display_data"
    }
   ],
   "source": [
    "fig,ax = plt.subplots(1,2,figsize = (10,6))\n",
    "merchants['most_recent_sales_range'].value_counts().plot(kind = 'bar', title = 'most_recent_sales_range', ax = ax[0])\n",
    "merchants['most_recent_purchases_range'].value_counts().plot(kind = 'bar', title = 'most_recent_purchases_range', ax = ax[1])"
   ]
  },
  {
   "cell_type": "markdown",
   "metadata": {},
   "source": [
    "1. Both the bar graphs looks identical.\n",
    "2. This is because most_recent_sales_range is the range of revenue in last active month and most_recent_purchase_range is the range of quantity of transactions.\n",
    "3. These two features look highly correlated. So we may drop any one of these."
   ]
  },
  {
   "cell_type": "code",
   "execution_count": 88,
   "metadata": {},
   "outputs": [],
   "source": [
    "cols = ['most_recent_sales_range','most_recent_purchases_range']\n",
    "corr_df = merchants[cols]\n"
   ]
  },
  {
   "cell_type": "code",
   "execution_count": 89,
   "metadata": {},
   "outputs": [],
   "source": [
    "corr_df['most_recent_sales_range'] = corr_df['most_recent_sales_range'].map({'A':1, 'B':2, 'C':3, 'D':4, 'E':5})\n",
    "corr_df['most_recent_purchases_range'] = corr_df['most_recent_purchases_range'].map({'A':1, 'B':2, 'C':3, 'D':4, 'E':5})\n"
   ]
  },
  {
   "cell_type": "code",
   "execution_count": 90,
   "metadata": {},
   "outputs": [],
   "source": [
    "#https://www.geeksforgeeks.org/detecting-multicollinearity-with-vif-python/\n",
    "from statsmodels.stats.outliers_influence import variance_inflation_factor\n",
    "vif = pd.DataFrame()\n",
    "vif['VIF'] = [variance_inflation_factor(corr_df.values,i) for i in range(len(corr_df.columns))]\n",
    "vif['feature'] = corr_df.columns"
   ]
  },
  {
   "cell_type": "code",
   "execution_count": 91,
   "metadata": {},
   "outputs": [
    {
     "data": {
      "text/html": [
       "<div>\n",
       "<style scoped>\n",
       "    .dataframe tbody tr th:only-of-type {\n",
       "        vertical-align: middle;\n",
       "    }\n",
       "\n",
       "    .dataframe tbody tr th {\n",
       "        vertical-align: top;\n",
       "    }\n",
       "\n",
       "    .dataframe thead th {\n",
       "        text-align: right;\n",
       "    }\n",
       "</style>\n",
       "<table border=\"1\" class=\"dataframe\">\n",
       "  <thead>\n",
       "    <tr style=\"text-align: right;\">\n",
       "      <th></th>\n",
       "      <th>VIF</th>\n",
       "      <th>feature</th>\n",
       "    </tr>\n",
       "  </thead>\n",
       "  <tbody>\n",
       "    <tr>\n",
       "      <th>0</th>\n",
       "      <td>63.52409</td>\n",
       "      <td>most_recent_sales_range</td>\n",
       "    </tr>\n",
       "    <tr>\n",
       "      <th>1</th>\n",
       "      <td>63.52409</td>\n",
       "      <td>most_recent_purchases_range</td>\n",
       "    </tr>\n",
       "  </tbody>\n",
       "</table>\n",
       "</div>"
      ],
      "text/plain": [
       "        VIF                      feature\n",
       "0  63.52409      most_recent_sales_range\n",
       "1  63.52409  most_recent_purchases_range"
      ]
     },
     "execution_count": 91,
     "metadata": {},
     "output_type": "execute_result"
    }
   ],
   "source": [
    "vif"
   ]
  },
  {
   "cell_type": "markdown",
   "metadata": {},
   "source": [
    "These features have high vif values which denotes that these features are highly correlated"
   ]
  },
  {
   "cell_type": "markdown",
   "metadata": {},
   "source": [
    "#### 3.4 average sales lag"
   ]
  },
  {
   "cell_type": "code",
   "execution_count": 92,
   "metadata": {},
   "outputs": [
    {
     "name": "stdout",
     "output_type": "stream",
     "text": [
      "count    334683.000000\n",
      "mean         13.832993\n",
      "std        2395.489999\n",
      "min         -82.130000\n",
      "25%           0.880000\n",
      "50%           1.000000\n",
      "75%           1.160000\n",
      "max      851844.640000\n",
      "Name: avg_sales_lag3, dtype: float64\n",
      "count    3.346830e+05\n",
      "mean     2.165079e+01\n",
      "std      3.947108e+03\n",
      "min     -8.213000e+01\n",
      "25%      8.500000e-01\n",
      "50%      1.010000e+00\n",
      "75%      1.230000e+00\n",
      "max      1.513959e+06\n",
      "Name: avg_sales_lag6, dtype: float64\n",
      "count    3.346830e+05\n",
      "mean     2.522771e+01\n",
      "std      5.251842e+03\n",
      "min     -8.213000e+01\n",
      "25%      8.500000e-01\n",
      "50%      1.020000e+00\n",
      "75%      1.290000e+00\n",
      "max      2.567408e+06\n",
      "Name: avg_sales_lag12, dtype: float64\n"
     ]
    }
   ],
   "source": [
    "print(merchants['avg_sales_lag3'].describe())\n",
    "print(merchants['avg_sales_lag6'].describe())\n",
    "print(merchants['avg_sales_lag12'].describe())"
   ]
  },
  {
   "cell_type": "code",
   "execution_count": 93,
   "metadata": {},
   "outputs": [
    {
     "data": {
      "image/png": "[encoded data removed]",
      "text/plain": [
       "<Figure size 1080x432 with 3 Axes>"
      ]
     },
     "metadata": {
      "needs_background": "light"
     },
     "output_type": "display_data"
    }
   ],
   "source": [
    "fig,ax = plt.subplots(1,3,figsize = (15,6))\n",
    "sns.distplot(merchants['avg_sales_lag3'], ax = ax[0], label = 'avg_sales_lag3')\n",
    "sns.distplot(merchants['avg_sales_lag6'], ax = ax[1], label = 'avg_sales_lag6')\n",
    "sns.distplot(merchants['avg_sales_lag12'], ax = ax[2], label = 'avg_sales_lag12')\n",
    "plt.show()"
   ]
  },
  {
   "cell_type": "markdown",
   "metadata": {},
   "source": [
    "The distribution of the three features are almost similar. However, there are some extreme points which needs to be handled."
   ]
  },
  {
   "cell_type": "markdown",
   "metadata": {},
   "source": [
    "#### 3.5 average purchase lag"
   ]
  },
  {
   "cell_type": "code",
   "execution_count": 94,
   "metadata": {},
   "outputs": [
    {
     "name": "stdout",
     "output_type": "stream",
     "text": [
      "count    3.346960e+05\n",
      "mean              inf\n",
      "std               NaN\n",
      "min      3.334953e-01\n",
      "25%      9.236499e-01\n",
      "50%      1.016667e+00\n",
      "75%      1.146522e+00\n",
      "max               inf\n",
      "Name: avg_purchases_lag3, dtype: float64\n",
      "count    3.346960e+05\n",
      "mean              inf\n",
      "std               NaN\n",
      "min      1.670447e-01\n",
      "25%      9.022475e-01\n",
      "50%      1.026961e+00\n",
      "75%      1.215575e+00\n",
      "max               inf\n",
      "Name: avg_purchases_lag6, dtype: float64\n",
      "count    3.346960e+05\n",
      "mean              inf\n",
      "std               NaN\n",
      "min      9.832954e-02\n",
      "25%      8.983333e-01\n",
      "50%      1.043361e+00\n",
      "75%      1.266480e+00\n",
      "max               inf\n",
      "Name: avg_purchases_lag12, dtype: float64\n"
     ]
    }
   ],
   "source": [
    "print(merchants['avg_purchases_lag3'].describe())\n",
    "print(merchants['avg_purchases_lag6'].describe())\n",
    "print(merchants['avg_purchases_lag12'].describe())"
   ]
  },
  {
   "cell_type": "markdown",
   "metadata": {},
   "source": [
    "There are some inf values for these features. Let us look closely to the data points that have inf values."
   ]
  },
  {
   "cell_type": "code",
   "execution_count": 95,
   "metadata": {},
   "outputs": [
    {
     "data": {
      "text/html": [
       "<div>\n",
       "<style scoped>\n",
       "    .dataframe tbody tr th:only-of-type {\n",
       "        vertical-align: middle;\n",
       "    }\n",
       "\n",
       "    .dataframe tbody tr th {\n",
       "        vertical-align: top;\n",
       "    }\n",
       "\n",
       "    .dataframe thead th {\n",
       "        text-align: right;\n",
       "    }\n",
       "</style>\n",
       "<table border=\"1\" class=\"dataframe\">\n",
       "  <thead>\n",
       "    <tr style=\"text-align: right;\">\n",
       "      <th></th>\n",
       "      <th>merchant_id</th>\n",
       "      <th>merchant_group_id</th>\n",
       "      <th>merchant_category_id</th>\n",
       "      <th>subsector_id</th>\n",
       "      <th>numerical_1</th>\n",
       "      <th>numerical_2</th>\n",
       "      <th>category_1</th>\n",
       "      <th>most_recent_sales_range</th>\n",
       "      <th>most_recent_purchases_range</th>\n",
       "      <th>avg_sales_lag3</th>\n",
       "      <th>...</th>\n",
       "      <th>avg_sales_lag6</th>\n",
       "      <th>avg_purchases_lag6</th>\n",
       "      <th>active_months_lag6</th>\n",
       "      <th>avg_sales_lag12</th>\n",
       "      <th>avg_purchases_lag12</th>\n",
       "      <th>active_months_lag12</th>\n",
       "      <th>category_4</th>\n",
       "      <th>city_id</th>\n",
       "      <th>state_id</th>\n",
       "      <th>category_2</th>\n",
       "    </tr>\n",
       "  </thead>\n",
       "  <tbody>\n",
       "    <tr>\n",
       "      <th>10</th>\n",
       "      <td>M_ID_492cfa500c</td>\n",
       "      <td>13462</td>\n",
       "      <td>369</td>\n",
       "      <td>27</td>\n",
       "      <td>-0.057471</td>\n",
       "      <td>-0.057471</td>\n",
       "      <td>N</td>\n",
       "      <td>E</td>\n",
       "      <td>E</td>\n",
       "      <td>NaN</td>\n",
       "      <td>...</td>\n",
       "      <td>NaN</td>\n",
       "      <td>inf</td>\n",
       "      <td>6</td>\n",
       "      <td>NaN</td>\n",
       "      <td>inf</td>\n",
       "      <td>12</td>\n",
       "      <td>N</td>\n",
       "      <td>-1</td>\n",
       "      <td>9</td>\n",
       "      <td>1.0</td>\n",
       "    </tr>\n",
       "    <tr>\n",
       "      <th>11</th>\n",
       "      <td>M_ID_73487fed26</td>\n",
       "      <td>17123</td>\n",
       "      <td>427</td>\n",
       "      <td>27</td>\n",
       "      <td>-0.057471</td>\n",
       "      <td>-0.057471</td>\n",
       "      <td>Y</td>\n",
       "      <td>E</td>\n",
       "      <td>E</td>\n",
       "      <td>NaN</td>\n",
       "      <td>...</td>\n",
       "      <td>NaN</td>\n",
       "      <td>inf</td>\n",
       "      <td>6</td>\n",
       "      <td>NaN</td>\n",
       "      <td>inf</td>\n",
       "      <td>12</td>\n",
       "      <td>Y</td>\n",
       "      <td>-1</td>\n",
       "      <td>-1</td>\n",
       "      <td>NaN</td>\n",
       "    </tr>\n",
       "    <tr>\n",
       "      <th>12</th>\n",
       "      <td>M_ID_7149162139</td>\n",
       "      <td>2118</td>\n",
       "      <td>63</td>\n",
       "      <td>27</td>\n",
       "      <td>-0.057471</td>\n",
       "      <td>-0.057471</td>\n",
       "      <td>N</td>\n",
       "      <td>E</td>\n",
       "      <td>E</td>\n",
       "      <td>NaN</td>\n",
       "      <td>...</td>\n",
       "      <td>NaN</td>\n",
       "      <td>inf</td>\n",
       "      <td>6</td>\n",
       "      <td>NaN</td>\n",
       "      <td>inf</td>\n",
       "      <td>12</td>\n",
       "      <td>Y</td>\n",
       "      <td>88</td>\n",
       "      <td>16</td>\n",
       "      <td>1.0</td>\n",
       "    </tr>\n",
       "  </tbody>\n",
       "</table>\n",
       "<p>3 rows × 22 columns</p>\n",
       "</div>"
      ],
      "text/plain": [
       "        merchant_id  merchant_group_id  merchant_category_id  subsector_id  \\\n",
       "10  M_ID_492cfa500c              13462                   369            27   \n",
       "11  M_ID_73487fed26              17123                   427            27   \n",
       "12  M_ID_7149162139               2118                    63            27   \n",
       "\n",
       "    numerical_1  numerical_2 category_1 most_recent_sales_range  \\\n",
       "10    -0.057471    -0.057471          N                       E   \n",
       "11    -0.057471    -0.057471          Y                       E   \n",
       "12    -0.057471    -0.057471          N                       E   \n",
       "\n",
       "   most_recent_purchases_range  avg_sales_lag3  ...  avg_sales_lag6  \\\n",
       "10                           E             NaN  ...             NaN   \n",
       "11                           E             NaN  ...             NaN   \n",
       "12                           E             NaN  ...             NaN   \n",
       "\n",
       "    avg_purchases_lag6  active_months_lag6  avg_sales_lag12  \\\n",
       "10                 inf                   6              NaN   \n",
       "11                 inf                   6              NaN   \n",
       "12                 inf                   6              NaN   \n",
       "\n",
       "    avg_purchases_lag12  active_months_lag12  category_4  city_id state_id  \\\n",
       "10                  inf                   12           N       -1        9   \n",
       "11                  inf                   12           Y       -1       -1   \n",
       "12                  inf                   12           Y       88       16   \n",
       "\n",
       "    category_2  \n",
       "10         1.0  \n",
       "11         NaN  \n",
       "12         1.0  \n",
       "\n",
       "[3 rows x 22 columns]"
      ]
     },
     "execution_count": 95,
     "metadata": {},
     "output_type": "execute_result"
    }
   ],
   "source": [
    "merchants[merchants['avg_purchases_lag3']==np.inf]"
   ]
  },
  {
   "cell_type": "code",
   "execution_count": 96,
   "metadata": {},
   "outputs": [
    {
     "data": {
      "text/html": [
       "<div>\n",
       "<style scoped>\n",
       "    .dataframe tbody tr th:only-of-type {\n",
       "        vertical-align: middle;\n",
       "    }\n",
       "\n",
       "    .dataframe tbody tr th {\n",
       "        vertical-align: top;\n",
       "    }\n",
       "\n",
       "    .dataframe thead th {\n",
       "        text-align: right;\n",
       "    }\n",
       "</style>\n",
       "<table border=\"1\" class=\"dataframe\">\n",
       "  <thead>\n",
       "    <tr style=\"text-align: right;\">\n",
       "      <th></th>\n",
       "      <th>merchant_id</th>\n",
       "      <th>merchant_group_id</th>\n",
       "      <th>merchant_category_id</th>\n",
       "      <th>subsector_id</th>\n",
       "      <th>numerical_1</th>\n",
       "      <th>numerical_2</th>\n",
       "      <th>category_1</th>\n",
       "      <th>most_recent_sales_range</th>\n",
       "      <th>most_recent_purchases_range</th>\n",
       "      <th>avg_sales_lag3</th>\n",
       "      <th>...</th>\n",
       "      <th>avg_sales_lag6</th>\n",
       "      <th>avg_purchases_lag6</th>\n",
       "      <th>active_months_lag6</th>\n",
       "      <th>avg_sales_lag12</th>\n",
       "      <th>avg_purchases_lag12</th>\n",
       "      <th>active_months_lag12</th>\n",
       "      <th>category_4</th>\n",
       "      <th>city_id</th>\n",
       "      <th>state_id</th>\n",
       "      <th>category_2</th>\n",
       "    </tr>\n",
       "  </thead>\n",
       "  <tbody>\n",
       "    <tr>\n",
       "      <th>10</th>\n",
       "      <td>M_ID_492cfa500c</td>\n",
       "      <td>13462</td>\n",
       "      <td>369</td>\n",
       "      <td>27</td>\n",
       "      <td>-0.057471</td>\n",
       "      <td>-0.057471</td>\n",
       "      <td>N</td>\n",
       "      <td>E</td>\n",
       "      <td>E</td>\n",
       "      <td>NaN</td>\n",
       "      <td>...</td>\n",
       "      <td>NaN</td>\n",
       "      <td>inf</td>\n",
       "      <td>6</td>\n",
       "      <td>NaN</td>\n",
       "      <td>inf</td>\n",
       "      <td>12</td>\n",
       "      <td>N</td>\n",
       "      <td>-1</td>\n",
       "      <td>9</td>\n",
       "      <td>1.0</td>\n",
       "    </tr>\n",
       "    <tr>\n",
       "      <th>11</th>\n",
       "      <td>M_ID_73487fed26</td>\n",
       "      <td>17123</td>\n",
       "      <td>427</td>\n",
       "      <td>27</td>\n",
       "      <td>-0.057471</td>\n",
       "      <td>-0.057471</td>\n",
       "      <td>Y</td>\n",
       "      <td>E</td>\n",
       "      <td>E</td>\n",
       "      <td>NaN</td>\n",
       "      <td>...</td>\n",
       "      <td>NaN</td>\n",
       "      <td>inf</td>\n",
       "      <td>6</td>\n",
       "      <td>NaN</td>\n",
       "      <td>inf</td>\n",
       "      <td>12</td>\n",
       "      <td>Y</td>\n",
       "      <td>-1</td>\n",
       "      <td>-1</td>\n",
       "      <td>NaN</td>\n",
       "    </tr>\n",
       "    <tr>\n",
       "      <th>12</th>\n",
       "      <td>M_ID_7149162139</td>\n",
       "      <td>2118</td>\n",
       "      <td>63</td>\n",
       "      <td>27</td>\n",
       "      <td>-0.057471</td>\n",
       "      <td>-0.057471</td>\n",
       "      <td>N</td>\n",
       "      <td>E</td>\n",
       "      <td>E</td>\n",
       "      <td>NaN</td>\n",
       "      <td>...</td>\n",
       "      <td>NaN</td>\n",
       "      <td>inf</td>\n",
       "      <td>6</td>\n",
       "      <td>NaN</td>\n",
       "      <td>inf</td>\n",
       "      <td>12</td>\n",
       "      <td>Y</td>\n",
       "      <td>88</td>\n",
       "      <td>16</td>\n",
       "      <td>1.0</td>\n",
       "    </tr>\n",
       "  </tbody>\n",
       "</table>\n",
       "<p>3 rows × 22 columns</p>\n",
       "</div>"
      ],
      "text/plain": [
       "        merchant_id  merchant_group_id  merchant_category_id  subsector_id  \\\n",
       "10  M_ID_492cfa500c              13462                   369            27   \n",
       "11  M_ID_73487fed26              17123                   427            27   \n",
       "12  M_ID_7149162139               2118                    63            27   \n",
       "\n",
       "    numerical_1  numerical_2 category_1 most_recent_sales_range  \\\n",
       "10    -0.057471    -0.057471          N                       E   \n",
       "11    -0.057471    -0.057471          Y                       E   \n",
       "12    -0.057471    -0.057471          N                       E   \n",
       "\n",
       "   most_recent_purchases_range  avg_sales_lag3  ...  avg_sales_lag6  \\\n",
       "10                           E             NaN  ...             NaN   \n",
       "11                           E             NaN  ...             NaN   \n",
       "12                           E             NaN  ...             NaN   \n",
       "\n",
       "    avg_purchases_lag6  active_months_lag6  avg_sales_lag12  \\\n",
       "10                 inf                   6              NaN   \n",
       "11                 inf                   6              NaN   \n",
       "12                 inf                   6              NaN   \n",
       "\n",
       "    avg_purchases_lag12  active_months_lag12  category_4  city_id state_id  \\\n",
       "10                  inf                   12           N       -1        9   \n",
       "11                  inf                   12           Y       -1       -1   \n",
       "12                  inf                   12           Y       88       16   \n",
       "\n",
       "    category_2  \n",
       "10         1.0  \n",
       "11         NaN  \n",
       "12         1.0  \n",
       "\n",
       "[3 rows x 22 columns]"
      ]
     },
     "execution_count": 96,
     "metadata": {},
     "output_type": "execute_result"
    }
   ],
   "source": [
    "merchants[merchants['avg_purchases_lag6']==np.inf]"
   ]
  },
  {
   "cell_type": "code",
   "execution_count": 97,
   "metadata": {},
   "outputs": [
    {
     "data": {
      "text/html": [
       "<div>\n",
       "<style scoped>\n",
       "    .dataframe tbody tr th:only-of-type {\n",
       "        vertical-align: middle;\n",
       "    }\n",
       "\n",
       "    .dataframe tbody tr th {\n",
       "        vertical-align: top;\n",
       "    }\n",
       "\n",
       "    .dataframe thead th {\n",
       "        text-align: right;\n",
       "    }\n",
       "</style>\n",
       "<table border=\"1\" class=\"dataframe\">\n",
       "  <thead>\n",
       "    <tr style=\"text-align: right;\">\n",
       "      <th></th>\n",
       "      <th>merchant_id</th>\n",
       "      <th>merchant_group_id</th>\n",
       "      <th>merchant_category_id</th>\n",
       "      <th>subsector_id</th>\n",
       "      <th>numerical_1</th>\n",
       "      <th>numerical_2</th>\n",
       "      <th>category_1</th>\n",
       "      <th>most_recent_sales_range</th>\n",
       "      <th>most_recent_purchases_range</th>\n",
       "      <th>avg_sales_lag3</th>\n",
       "      <th>...</th>\n",
       "      <th>avg_sales_lag6</th>\n",
       "      <th>avg_purchases_lag6</th>\n",
       "      <th>active_months_lag6</th>\n",
       "      <th>avg_sales_lag12</th>\n",
       "      <th>avg_purchases_lag12</th>\n",
       "      <th>active_months_lag12</th>\n",
       "      <th>category_4</th>\n",
       "      <th>city_id</th>\n",
       "      <th>state_id</th>\n",
       "      <th>category_2</th>\n",
       "    </tr>\n",
       "  </thead>\n",
       "  <tbody>\n",
       "    <tr>\n",
       "      <th>10</th>\n",
       "      <td>M_ID_492cfa500c</td>\n",
       "      <td>13462</td>\n",
       "      <td>369</td>\n",
       "      <td>27</td>\n",
       "      <td>-0.057471</td>\n",
       "      <td>-0.057471</td>\n",
       "      <td>N</td>\n",
       "      <td>E</td>\n",
       "      <td>E</td>\n",
       "      <td>NaN</td>\n",
       "      <td>...</td>\n",
       "      <td>NaN</td>\n",
       "      <td>inf</td>\n",
       "      <td>6</td>\n",
       "      <td>NaN</td>\n",
       "      <td>inf</td>\n",
       "      <td>12</td>\n",
       "      <td>N</td>\n",
       "      <td>-1</td>\n",
       "      <td>9</td>\n",
       "      <td>1.0</td>\n",
       "    </tr>\n",
       "    <tr>\n",
       "      <th>11</th>\n",
       "      <td>M_ID_73487fed26</td>\n",
       "      <td>17123</td>\n",
       "      <td>427</td>\n",
       "      <td>27</td>\n",
       "      <td>-0.057471</td>\n",
       "      <td>-0.057471</td>\n",
       "      <td>Y</td>\n",
       "      <td>E</td>\n",
       "      <td>E</td>\n",
       "      <td>NaN</td>\n",
       "      <td>...</td>\n",
       "      <td>NaN</td>\n",
       "      <td>inf</td>\n",
       "      <td>6</td>\n",
       "      <td>NaN</td>\n",
       "      <td>inf</td>\n",
       "      <td>12</td>\n",
       "      <td>Y</td>\n",
       "      <td>-1</td>\n",
       "      <td>-1</td>\n",
       "      <td>NaN</td>\n",
       "    </tr>\n",
       "    <tr>\n",
       "      <th>12</th>\n",
       "      <td>M_ID_7149162139</td>\n",
       "      <td>2118</td>\n",
       "      <td>63</td>\n",
       "      <td>27</td>\n",
       "      <td>-0.057471</td>\n",
       "      <td>-0.057471</td>\n",
       "      <td>N</td>\n",
       "      <td>E</td>\n",
       "      <td>E</td>\n",
       "      <td>NaN</td>\n",
       "      <td>...</td>\n",
       "      <td>NaN</td>\n",
       "      <td>inf</td>\n",
       "      <td>6</td>\n",
       "      <td>NaN</td>\n",
       "      <td>inf</td>\n",
       "      <td>12</td>\n",
       "      <td>Y</td>\n",
       "      <td>88</td>\n",
       "      <td>16</td>\n",
       "      <td>1.0</td>\n",
       "    </tr>\n",
       "  </tbody>\n",
       "</table>\n",
       "<p>3 rows × 22 columns</p>\n",
       "</div>"
      ],
      "text/plain": [
       "        merchant_id  merchant_group_id  merchant_category_id  subsector_id  \\\n",
       "10  M_ID_492cfa500c              13462                   369            27   \n",
       "11  M_ID_73487fed26              17123                   427            27   \n",
       "12  M_ID_7149162139               2118                    63            27   \n",
       "\n",
       "    numerical_1  numerical_2 category_1 most_recent_sales_range  \\\n",
       "10    -0.057471    -0.057471          N                       E   \n",
       "11    -0.057471    -0.057471          Y                       E   \n",
       "12    -0.057471    -0.057471          N                       E   \n",
       "\n",
       "   most_recent_purchases_range  avg_sales_lag3  ...  avg_sales_lag6  \\\n",
       "10                           E             NaN  ...             NaN   \n",
       "11                           E             NaN  ...             NaN   \n",
       "12                           E             NaN  ...             NaN   \n",
       "\n",
       "    avg_purchases_lag6  active_months_lag6  avg_sales_lag12  \\\n",
       "10                 inf                   6              NaN   \n",
       "11                 inf                   6              NaN   \n",
       "12                 inf                   6              NaN   \n",
       "\n",
       "    avg_purchases_lag12  active_months_lag12  category_4  city_id state_id  \\\n",
       "10                  inf                   12           N       -1        9   \n",
       "11                  inf                   12           Y       -1       -1   \n",
       "12                  inf                   12           Y       88       16   \n",
       "\n",
       "    category_2  \n",
       "10         1.0  \n",
       "11         NaN  \n",
       "12         1.0  \n",
       "\n",
       "[3 rows x 22 columns]"
      ]
     },
     "execution_count": 97,
     "metadata": {},
     "output_type": "execute_result"
    }
   ],
   "source": [
    "merchants[merchants['avg_purchases_lag12']==np.inf]"
   ]
  },
  {
   "cell_type": "markdown",
   "metadata": {},
   "source": [
    "All these inf values belong to same card_id. This may be beacuse of division by zero. We can drop these rows and look at the statistical properties."
   ]
  },
  {
   "cell_type": "code",
   "execution_count": 98,
   "metadata": {},
   "outputs": [
    {
     "data": {
      "text/html": [
       "<div>\n",
       "<style scoped>\n",
       "    .dataframe tbody tr th:only-of-type {\n",
       "        vertical-align: middle;\n",
       "    }\n",
       "\n",
       "    .dataframe tbody tr th {\n",
       "        vertical-align: top;\n",
       "    }\n",
       "\n",
       "    .dataframe thead th {\n",
       "        text-align: right;\n",
       "    }\n",
       "</style>\n",
       "<table border=\"1\" class=\"dataframe\">\n",
       "  <thead>\n",
       "    <tr style=\"text-align: right;\">\n",
       "      <th></th>\n",
       "      <th>merchant_id</th>\n",
       "      <th>merchant_group_id</th>\n",
       "      <th>merchant_category_id</th>\n",
       "      <th>subsector_id</th>\n",
       "      <th>numerical_1</th>\n",
       "      <th>numerical_2</th>\n",
       "      <th>category_1</th>\n",
       "      <th>most_recent_sales_range</th>\n",
       "      <th>most_recent_purchases_range</th>\n",
       "      <th>avg_sales_lag3</th>\n",
       "      <th>...</th>\n",
       "      <th>avg_sales_lag6</th>\n",
       "      <th>avg_purchases_lag6</th>\n",
       "      <th>active_months_lag6</th>\n",
       "      <th>avg_sales_lag12</th>\n",
       "      <th>avg_purchases_lag12</th>\n",
       "      <th>active_months_lag12</th>\n",
       "      <th>category_4</th>\n",
       "      <th>city_id</th>\n",
       "      <th>state_id</th>\n",
       "      <th>category_2</th>\n",
       "    </tr>\n",
       "  </thead>\n",
       "  <tbody>\n",
       "    <tr>\n",
       "      <th>0</th>\n",
       "      <td>M_ID_838061e48c</td>\n",
       "      <td>8353</td>\n",
       "      <td>792</td>\n",
       "      <td>9</td>\n",
       "      <td>-0.057471</td>\n",
       "      <td>-0.057471</td>\n",
       "      <td>N</td>\n",
       "      <td>E</td>\n",
       "      <td>E</td>\n",
       "      <td>-0.40</td>\n",
       "      <td>...</td>\n",
       "      <td>-2.25</td>\n",
       "      <td>18.666667</td>\n",
       "      <td>6</td>\n",
       "      <td>-2.32</td>\n",
       "      <td>13.916667</td>\n",
       "      <td>12</td>\n",
       "      <td>N</td>\n",
       "      <td>242</td>\n",
       "      <td>9</td>\n",
       "      <td>1.0</td>\n",
       "    </tr>\n",
       "    <tr>\n",
       "      <th>1</th>\n",
       "      <td>M_ID_9339d880ad</td>\n",
       "      <td>3184</td>\n",
       "      <td>840</td>\n",
       "      <td>20</td>\n",
       "      <td>-0.057471</td>\n",
       "      <td>-0.057471</td>\n",
       "      <td>N</td>\n",
       "      <td>E</td>\n",
       "      <td>E</td>\n",
       "      <td>-0.72</td>\n",
       "      <td>...</td>\n",
       "      <td>-0.74</td>\n",
       "      <td>1.291667</td>\n",
       "      <td>6</td>\n",
       "      <td>-0.57</td>\n",
       "      <td>1.687500</td>\n",
       "      <td>12</td>\n",
       "      <td>N</td>\n",
       "      <td>22</td>\n",
       "      <td>16</td>\n",
       "      <td>1.0</td>\n",
       "    </tr>\n",
       "    <tr>\n",
       "      <th>2</th>\n",
       "      <td>M_ID_e726bbae1e</td>\n",
       "      <td>447</td>\n",
       "      <td>690</td>\n",
       "      <td>1</td>\n",
       "      <td>-0.057471</td>\n",
       "      <td>-0.057471</td>\n",
       "      <td>N</td>\n",
       "      <td>E</td>\n",
       "      <td>E</td>\n",
       "      <td>-82.13</td>\n",
       "      <td>...</td>\n",
       "      <td>-82.13</td>\n",
       "      <td>260.000000</td>\n",
       "      <td>2</td>\n",
       "      <td>-82.13</td>\n",
       "      <td>260.000000</td>\n",
       "      <td>2</td>\n",
       "      <td>N</td>\n",
       "      <td>-1</td>\n",
       "      <td>5</td>\n",
       "      <td>5.0</td>\n",
       "    </tr>\n",
       "    <tr>\n",
       "      <th>3</th>\n",
       "      <td>M_ID_a70e9c5f81</td>\n",
       "      <td>5026</td>\n",
       "      <td>792</td>\n",
       "      <td>9</td>\n",
       "      <td>-0.057471</td>\n",
       "      <td>-0.057471</td>\n",
       "      <td>Y</td>\n",
       "      <td>E</td>\n",
       "      <td>E</td>\n",
       "      <td>NaN</td>\n",
       "      <td>...</td>\n",
       "      <td>NaN</td>\n",
       "      <td>4.666667</td>\n",
       "      <td>6</td>\n",
       "      <td>NaN</td>\n",
       "      <td>3.833333</td>\n",
       "      <td>12</td>\n",
       "      <td>Y</td>\n",
       "      <td>-1</td>\n",
       "      <td>-1</td>\n",
       "      <td>NaN</td>\n",
       "    </tr>\n",
       "    <tr>\n",
       "      <th>4</th>\n",
       "      <td>M_ID_64456c37ce</td>\n",
       "      <td>2228</td>\n",
       "      <td>222</td>\n",
       "      <td>21</td>\n",
       "      <td>-0.057471</td>\n",
       "      <td>-0.057471</td>\n",
       "      <td>Y</td>\n",
       "      <td>E</td>\n",
       "      <td>E</td>\n",
       "      <td>NaN</td>\n",
       "      <td>...</td>\n",
       "      <td>NaN</td>\n",
       "      <td>0.361111</td>\n",
       "      <td>6</td>\n",
       "      <td>NaN</td>\n",
       "      <td>0.347222</td>\n",
       "      <td>12</td>\n",
       "      <td>Y</td>\n",
       "      <td>-1</td>\n",
       "      <td>-1</td>\n",
       "      <td>NaN</td>\n",
       "    </tr>\n",
       "  </tbody>\n",
       "</table>\n",
       "<p>5 rows × 22 columns</p>\n",
       "</div>"
      ],
      "text/plain": [
       "       merchant_id  merchant_group_id  merchant_category_id  subsector_id  \\\n",
       "0  M_ID_838061e48c               8353                   792             9   \n",
       "1  M_ID_9339d880ad               3184                   840            20   \n",
       "2  M_ID_e726bbae1e                447                   690             1   \n",
       "3  M_ID_a70e9c5f81               5026                   792             9   \n",
       "4  M_ID_64456c37ce               2228                   222            21   \n",
       "\n",
       "   numerical_1  numerical_2 category_1 most_recent_sales_range  \\\n",
       "0    -0.057471    -0.057471          N                       E   \n",
       "1    -0.057471    -0.057471          N                       E   \n",
       "2    -0.057471    -0.057471          N                       E   \n",
       "3    -0.057471    -0.057471          Y                       E   \n",
       "4    -0.057471    -0.057471          Y                       E   \n",
       "\n",
       "  most_recent_purchases_range  avg_sales_lag3  ...  avg_sales_lag6  \\\n",
       "0                           E           -0.40  ...           -2.25   \n",
       "1                           E           -0.72  ...           -0.74   \n",
       "2                           E          -82.13  ...          -82.13   \n",
       "3                           E             NaN  ...             NaN   \n",
       "4                           E             NaN  ...             NaN   \n",
       "\n",
       "   avg_purchases_lag6  active_months_lag6  avg_sales_lag12  \\\n",
       "0           18.666667                   6            -2.32   \n",
       "1            1.291667                   6            -0.57   \n",
       "2          260.000000                   2           -82.13   \n",
       "3            4.666667                   6              NaN   \n",
       "4            0.361111                   6              NaN   \n",
       "\n",
       "   avg_purchases_lag12  active_months_lag12  category_4  city_id state_id  \\\n",
       "0            13.916667                   12           N      242        9   \n",
       "1             1.687500                   12           N       22       16   \n",
       "2           260.000000                    2           N       -1        5   \n",
       "3             3.833333                   12           Y       -1       -1   \n",
       "4             0.347222                   12           Y       -1       -1   \n",
       "\n",
       "   category_2  \n",
       "0         1.0  \n",
       "1         1.0  \n",
       "2         5.0  \n",
       "3         NaN  \n",
       "4         NaN  \n",
       "\n",
       "[5 rows x 22 columns]"
      ]
     },
     "execution_count": 98,
     "metadata": {},
     "output_type": "execute_result"
    }
   ],
   "source": [
    "merchants_without_inf = merchants[merchants['avg_purchases_lag12']!=np.inf]\n",
    "merchants_without_inf.head()"
   ]
  },
  {
   "cell_type": "code",
   "execution_count": 99,
   "metadata": {},
   "outputs": [
    {
     "name": "stdout",
     "output_type": "stream",
     "text": [
      "count    334693.000000\n",
      "mean          1.590762\n",
      "std         107.187059\n",
      "min           0.333495\n",
      "25%           0.923650\n",
      "50%           1.016667\n",
      "75%           1.146520\n",
      "max       61851.333333\n",
      "Name: avg_purchases_lag3, dtype: float64\n",
      "count    334693.000000\n",
      "mean          1.887568\n",
      "std          97.862790\n",
      "min           0.167045\n",
      "25%           0.902245\n",
      "50%           1.026961\n",
      "75%           1.215556\n",
      "max       56077.500000\n",
      "Name: avg_purchases_lag6, dtype: float64\n",
      "count    334693.000000\n",
      "mean          2.079195\n",
      "std          88.442384\n",
      "min           0.098330\n",
      "25%           0.898333\n",
      "50%           1.043360\n",
      "75%           1.266461\n",
      "max       50215.555556\n",
      "Name: avg_purchases_lag12, dtype: float64\n"
     ]
    }
   ],
   "source": [
    "print(merchants_without_inf['avg_purchases_lag3'].describe())\n",
    "print(merchants_without_inf['avg_purchases_lag6'].describe())\n",
    "print(merchants_without_inf['avg_purchases_lag12'].describe())\n"
   ]
  },
  {
   "cell_type": "code",
   "execution_count": 100,
   "metadata": {},
   "outputs": [
    {
     "data": {
      "text/plain": [
       "<AxesSubplot:title={'center':'avg_sales_lag12'}, ylabel='Frequency'>"
      ]
     },
     "execution_count": 100,
     "metadata": {},
     "output_type": "execute_result"
    },
    {
     "data": {
      "image/png": "[encoded data removed]",
      "text/plain": [
       "<Figure size 1008x432 with 3 Axes>"
      ]
     },
     "metadata": {
      "needs_background": "light"
     },
     "output_type": "display_data"
    }
   ],
   "source": [
    "fig,ax = plt.subplots(1,3, figsize = (14,6))\n",
    "merchants_without_inf['avg_purchases_lag3'].value_counts().sort_index().plot(kind = 'hist', ax=ax[0], title = 'avg_sales_lag3')\n",
    "merchants_without_inf['avg_purchases_lag6'].value_counts().sort_index().plot(kind = 'hist', ax=ax[1], title = 'avg_sales_lag6')\n",
    "merchants_without_inf['avg_purchases_lag12'].value_counts().sort_index().plot(kind = 'hist', ax=ax[2], title = 'avg_sales_lag12')"
   ]
  },
  {
   "cell_type": "code",
   "execution_count": null,
   "metadata": {},
   "outputs": [],
   "source": []
  },
  {
   "cell_type": "markdown",
   "metadata": {},
   "source": [
    "Let us now try plotting the correlation matrix of the features."
   ]
  },
  {
   "cell_type": "code",
   "execution_count": 101,
   "metadata": {},
   "outputs": [
    {
     "data": {
      "text/plain": [
       "<AxesSubplot:>"
      ]
     },
     "execution_count": 101,
     "metadata": {},
     "output_type": "execute_result"
    },
    {
     "data": {
      "image/png": "[encoded data removed]",
      "text/plain": [
       "<Figure size 432x288 with 2 Axes>"
      ]
     },
     "metadata": {
      "needs_background": "light"
     },
     "output_type": "display_data"
    }
   ],
   "source": [
    "#https://stackoverflow.com/questions/48035381/correlation-among-multiple-categorical-variables-pandas\n",
    "corr = merchants.apply(lambda x:pd.factorize(x)[0]).corr(method = 'pearson')\n",
    "corr_norm = np.round((corr - corr.min())/(corr.max()-corr.min()),3)\n",
    "sns.heatmap(corr_norm, xticklabels = corr.columns, yticklabels = corr.columns)"
   ]
  },
  {
   "cell_type": "markdown",
   "metadata": {},
   "source": [
    "### 4. new merchant transactions data"
   ]
  },
  {
   "cell_type": "code",
   "execution_count": 8,
   "metadata": {},
   "outputs": [],
   "source": [
    "new_merchant = pd.read_csv('new_merchant_transactions.csv')"
   ]
  },
  {
   "cell_type": "code",
   "execution_count": 63,
   "metadata": {},
   "outputs": [
    {
     "data": {
      "text/html": [
       "<div>\n",
       "<style scoped>\n",
       "    .dataframe tbody tr th:only-of-type {\n",
       "        vertical-align: middle;\n",
       "    }\n",
       "\n",
       "    .dataframe tbody tr th {\n",
       "        vertical-align: top;\n",
       "    }\n",
       "\n",
       "    .dataframe thead th {\n",
       "        text-align: right;\n",
       "    }\n",
       "</style>\n",
       "<table border=\"1\" class=\"dataframe\">\n",
       "  <thead>\n",
       "    <tr style=\"text-align: right;\">\n",
       "      <th></th>\n",
       "      <th>authorized_flag</th>\n",
       "      <th>card_id</th>\n",
       "      <th>city_id</th>\n",
       "      <th>category_1</th>\n",
       "      <th>installments</th>\n",
       "      <th>category_3</th>\n",
       "      <th>merchant_category_id</th>\n",
       "      <th>merchant_id</th>\n",
       "      <th>month_lag</th>\n",
       "      <th>purchase_amount</th>\n",
       "      <th>purchase_date</th>\n",
       "      <th>category_2</th>\n",
       "      <th>state_id</th>\n",
       "      <th>subsector_id</th>\n",
       "    </tr>\n",
       "  </thead>\n",
       "  <tbody>\n",
       "    <tr>\n",
       "      <th>0</th>\n",
       "      <td>Y</td>\n",
       "      <td>C_ID_415bb3a509</td>\n",
       "      <td>107</td>\n",
       "      <td>N</td>\n",
       "      <td>1</td>\n",
       "      <td>B</td>\n",
       "      <td>307</td>\n",
       "      <td>M_ID_b0c793002c</td>\n",
       "      <td>1</td>\n",
       "      <td>-0.557574</td>\n",
       "      <td>2018-03-11 14:57:36</td>\n",
       "      <td>1.0</td>\n",
       "      <td>9</td>\n",
       "      <td>19</td>\n",
       "    </tr>\n",
       "    <tr>\n",
       "      <th>1</th>\n",
       "      <td>Y</td>\n",
       "      <td>C_ID_415bb3a509</td>\n",
       "      <td>140</td>\n",
       "      <td>N</td>\n",
       "      <td>1</td>\n",
       "      <td>B</td>\n",
       "      <td>307</td>\n",
       "      <td>M_ID_88920c89e8</td>\n",
       "      <td>1</td>\n",
       "      <td>-0.569580</td>\n",
       "      <td>2018-03-19 18:53:37</td>\n",
       "      <td>1.0</td>\n",
       "      <td>9</td>\n",
       "      <td>19</td>\n",
       "    </tr>\n",
       "    <tr>\n",
       "      <th>2</th>\n",
       "      <td>Y</td>\n",
       "      <td>C_ID_415bb3a509</td>\n",
       "      <td>330</td>\n",
       "      <td>N</td>\n",
       "      <td>1</td>\n",
       "      <td>B</td>\n",
       "      <td>507</td>\n",
       "      <td>M_ID_ad5237ef6b</td>\n",
       "      <td>2</td>\n",
       "      <td>-0.551037</td>\n",
       "      <td>2018-04-26 14:08:44</td>\n",
       "      <td>1.0</td>\n",
       "      <td>9</td>\n",
       "      <td>14</td>\n",
       "    </tr>\n",
       "    <tr>\n",
       "      <th>3</th>\n",
       "      <td>Y</td>\n",
       "      <td>C_ID_415bb3a509</td>\n",
       "      <td>-1</td>\n",
       "      <td>Y</td>\n",
       "      <td>1</td>\n",
       "      <td>B</td>\n",
       "      <td>661</td>\n",
       "      <td>M_ID_9e84cda3b1</td>\n",
       "      <td>1</td>\n",
       "      <td>-0.671926</td>\n",
       "      <td>2018-03-07 09:43:21</td>\n",
       "      <td>NaN</td>\n",
       "      <td>-1</td>\n",
       "      <td>8</td>\n",
       "    </tr>\n",
       "    <tr>\n",
       "      <th>4</th>\n",
       "      <td>Y</td>\n",
       "      <td>C_ID_ef55cf8d4b</td>\n",
       "      <td>-1</td>\n",
       "      <td>Y</td>\n",
       "      <td>1</td>\n",
       "      <td>B</td>\n",
       "      <td>166</td>\n",
       "      <td>M_ID_3c86fa3831</td>\n",
       "      <td>1</td>\n",
       "      <td>-0.659904</td>\n",
       "      <td>2018-03-22 21:07:53</td>\n",
       "      <td>NaN</td>\n",
       "      <td>-1</td>\n",
       "      <td>29</td>\n",
       "    </tr>\n",
       "  </tbody>\n",
       "</table>\n",
       "</div>"
      ],
      "text/plain": [
       "  authorized_flag          card_id  city_id category_1  installments  \\\n",
       "0               Y  C_ID_415bb3a509      107          N             1   \n",
       "1               Y  C_ID_415bb3a509      140          N             1   \n",
       "2               Y  C_ID_415bb3a509      330          N             1   \n",
       "3               Y  C_ID_415bb3a509       -1          Y             1   \n",
       "4               Y  C_ID_ef55cf8d4b       -1          Y             1   \n",
       "\n",
       "  category_3  merchant_category_id      merchant_id  month_lag  \\\n",
       "0          B                   307  M_ID_b0c793002c          1   \n",
       "1          B                   307  M_ID_88920c89e8          1   \n",
       "2          B                   507  M_ID_ad5237ef6b          2   \n",
       "3          B                   661  M_ID_9e84cda3b1          1   \n",
       "4          B                   166  M_ID_3c86fa3831          1   \n",
       "\n",
       "   purchase_amount        purchase_date  category_2  state_id  subsector_id  \n",
       "0        -0.557574  2018-03-11 14:57:36         1.0         9            19  \n",
       "1        -0.569580  2018-03-19 18:53:37         1.0         9            19  \n",
       "2        -0.551037  2018-04-26 14:08:44         1.0         9            14  \n",
       "3        -0.671926  2018-03-07 09:43:21         NaN        -1             8  \n",
       "4        -0.659904  2018-03-22 21:07:53         NaN        -1            29  "
      ]
     },
     "execution_count": 63,
     "metadata": {},
     "output_type": "execute_result"
    }
   ],
   "source": [
    "new_merchant.head()"
   ]
  },
  {
   "cell_type": "code",
   "execution_count": 64,
   "metadata": {},
   "outputs": [
    {
     "name": "stdout",
     "output_type": "stream",
     "text": [
      "Memory usage reduced to 169.08 Mb(19.4% reduction)\n"
     ]
    }
   ],
   "source": [
    "new_merchant= reduce_memory(new_merchant, verbose = True)"
   ]
  },
  {
   "cell_type": "code",
   "execution_count": 107,
   "metadata": {},
   "outputs": [
    {
     "name": "stdout",
     "output_type": "stream",
     "text": [
      "Shape of new merchant transactions data is (1963031, 14)\n"
     ]
    }
   ],
   "source": [
    "print('Shape of new merchant transactions data is', new_merchant.shape)"
   ]
  },
  {
   "cell_type": "code",
   "execution_count": 108,
   "metadata": {},
   "outputs": [
    {
     "data": {
      "text/plain": [
       "authorized_flag              0\n",
       "card_id                      0\n",
       "city_id                      0\n",
       "category_1                   0\n",
       "installments                 0\n",
       "category_3               55922\n",
       "merchant_category_id         0\n",
       "merchant_id              26216\n",
       "month_lag                    0\n",
       "purchase_amount              0\n",
       "purchase_date                0\n",
       "category_2              111745\n",
       "state_id                     0\n",
       "subsector_id                 0\n",
       "dtype: int64"
      ]
     },
     "execution_count": 108,
     "metadata": {},
     "output_type": "execute_result"
    }
   ],
   "source": [
    "new_merchant.isnull().sum()"
   ]
  },
  {
   "cell_type": "code",
   "execution_count": 116,
   "metadata": {},
   "outputs": [
    {
     "name": "stdout",
     "output_type": "stream",
     "text": [
      "Percentage of missing values in category_3 is 2.8487578647509895 %\n",
      "Percentage of missing values in merchant_id is 1.3354857870303627 %\n",
      "Percentage of missing values in category_2 is 5.692472508075522 %\n"
     ]
    }
   ],
   "source": [
    "print('Percentage of missing values in category_3 is', new_merchant['category_3'].isnull().sum()/len(new_merchant)*100,'%')\n",
    "print('Percentage of missing values in merchant_id is', new_merchant['merchant_id'].isnull().sum()/len(new_merchant)*100,'%')\n",
    "print('Percentage of missing values in category_2 is', new_merchant['category_2'].isnull().sum()/len(new_merchant)*100,'%')"
   ]
  },
  {
   "cell_type": "code",
   "execution_count": 119,
   "metadata": {},
   "outputs": [
    {
     "name": "stdout",
     "output_type": "stream",
     "text": [
      "Percentage of missing values in new merchant transactions is  9.876716159856874 %\n"
     ]
    }
   ],
   "source": [
    "print('Percentage of missing values in new merchant transactions is ', new_merchant.isnull().sum().sum()/len(new_merchant)*100, '%')"
   ]
  },
  {
   "cell_type": "markdown",
   "metadata": {},
   "source": [
    "#### 4.1 autorized_flag"
   ]
  },
  {
   "cell_type": "code",
   "execution_count": 120,
   "metadata": {},
   "outputs": [
    {
     "data": {
      "text/plain": [
       "<AxesSubplot:>"
      ]
     },
     "execution_count": 120,
     "metadata": {},
     "output_type": "execute_result"
    },
    {
     "data": {
      "image/png": "[encoded data removed]",
      "text/plain": [
       "<Figure size 432x288 with 1 Axes>"
      ]
     },
     "metadata": {
      "needs_background": "light"
     },
     "output_type": "display_data"
    }
   ],
   "source": [
    "new_merchant['authorized_flag'].value_counts().plot(kind = 'bar')"
   ]
  },
  {
   "cell_type": "markdown",
   "metadata": {},
   "source": [
    "Since this feature has a constant value, we can drop this feature as all the transactions are authorized."
   ]
  },
  {
   "cell_type": "markdown",
   "metadata": {},
   "source": [
    "#### 4.2 purchase_date"
   ]
  },
  {
   "cell_type": "code",
   "execution_count": 122,
   "metadata": {},
   "outputs": [
    {
     "data": {
      "text/plain": [
       "<AxesSubplot:title={'center':'purchase date'}>"
      ]
     },
     "execution_count": 122,
     "metadata": {},
     "output_type": "execute_result"
    },
    {
     "data": {
      "image/png": "[encoded data removed]",
      "text/plain": [
       "<Figure size 432x288 with 1 Axes>"
      ]
     },
     "metadata": {
      "needs_background": "light"
     },
     "output_type": "display_data"
    }
   ],
   "source": [
    "year = pd.DatetimeIndex(new_merchant['purchase_date']).year\n",
    "year.value_counts().sort_index().plot(kind = 'bar' ,title = 'purchase date')"
   ]
  },
  {
   "cell_type": "code",
   "execution_count": 123,
   "metadata": {},
   "outputs": [
    {
     "data": {
      "text/plain": [
       "2018    1659548\n",
       "2017     303483\n",
       "Name: purchase_date, dtype: int64"
      ]
     },
     "execution_count": 123,
     "metadata": {},
     "output_type": "execute_result"
    }
   ],
   "source": [
    "year.value_counts()"
   ]
  },
  {
   "cell_type": "code",
   "execution_count": 130,
   "metadata": {},
   "outputs": [
    {
     "data": {
      "text/plain": [
       "<AxesSubplot:title={'center':'days'}>"
      ]
     },
     "execution_count": 130,
     "metadata": {},
     "output_type": "execute_result"
    },
    {
     "data": {
      "image/png": "[encoded data removed]",
      "text/plain": [
       "<Figure size 432x288 with 1 Axes>"
      ]
     },
     "metadata": {
      "needs_background": "light"
     },
     "output_type": "display_data"
    }
   ],
   "source": [
    "day = pd.DatetimeIndex(new_merchant['purchase_date']).day_name()\n",
    "day.value_counts().plot(kind = 'bar', title = 'days')"
   ]
  },
  {
   "cell_type": "markdown",
   "metadata": {},
   "source": [
    "Most of the purchases in the given data is on Saturday."
   ]
  },
  {
   "cell_type": "code",
   "execution_count": 132,
   "metadata": {},
   "outputs": [
    {
     "data": {
      "text/plain": [
       "<AxesSubplot:title={'center':'hour of the day'}>"
      ]
     },
     "execution_count": 132,
     "metadata": {},
     "output_type": "execute_result"
    },
    {
     "data": {
      "image/png": "[encoded data removed]",
      "text/plain": [
       "<Figure size 432x288 with 1 Axes>"
      ]
     },
     "metadata": {
      "needs_background": "light"
     },
     "output_type": "display_data"
    }
   ],
   "source": [
    "hour = pd.DatetimeIndex(new_merchant['purchase_date']).hour\n",
    "hour.value_counts().sort_index().plot(kind = 'bar', title = 'hour of the day')"
   ]
  },
  {
   "cell_type": "code",
   "execution_count": 125,
   "metadata": {},
   "outputs": [
    {
     "data": {
      "text/html": [
       "<div>\n",
       "<style scoped>\n",
       "    .dataframe tbody tr th:only-of-type {\n",
       "        vertical-align: middle;\n",
       "    }\n",
       "\n",
       "    .dataframe tbody tr th {\n",
       "        vertical-align: top;\n",
       "    }\n",
       "\n",
       "    .dataframe thead th {\n",
       "        text-align: right;\n",
       "    }\n",
       "</style>\n",
       "<table border=\"1\" class=\"dataframe\">\n",
       "  <thead>\n",
       "    <tr style=\"text-align: right;\">\n",
       "      <th></th>\n",
       "      <th>purchase_date</th>\n",
       "      <th>year</th>\n",
       "      <th>month</th>\n",
       "      <th>day</th>\n",
       "      <th>hour</th>\n",
       "    </tr>\n",
       "  </thead>\n",
       "  <tbody>\n",
       "    <tr>\n",
       "      <th>0</th>\n",
       "      <td>2018-03-11 14:57:36</td>\n",
       "      <td>2018</td>\n",
       "      <td>March</td>\n",
       "      <td>Sunday</td>\n",
       "      <td>14</td>\n",
       "    </tr>\n",
       "    <tr>\n",
       "      <th>1</th>\n",
       "      <td>2018-03-19 18:53:37</td>\n",
       "      <td>2018</td>\n",
       "      <td>March</td>\n",
       "      <td>Monday</td>\n",
       "      <td>18</td>\n",
       "    </tr>\n",
       "    <tr>\n",
       "      <th>2</th>\n",
       "      <td>2018-04-26 14:08:44</td>\n",
       "      <td>2018</td>\n",
       "      <td>April</td>\n",
       "      <td>Thursday</td>\n",
       "      <td>14</td>\n",
       "    </tr>\n",
       "    <tr>\n",
       "      <th>3</th>\n",
       "      <td>2018-03-07 09:43:21</td>\n",
       "      <td>2018</td>\n",
       "      <td>March</td>\n",
       "      <td>Wednesday</td>\n",
       "      <td>9</td>\n",
       "    </tr>\n",
       "    <tr>\n",
       "      <th>4</th>\n",
       "      <td>2018-03-22 21:07:53</td>\n",
       "      <td>2018</td>\n",
       "      <td>March</td>\n",
       "      <td>Thursday</td>\n",
       "      <td>21</td>\n",
       "    </tr>\n",
       "  </tbody>\n",
       "</table>\n",
       "</div>"
      ],
      "text/plain": [
       "         purchase_date  year  month        day  hour\n",
       "0  2018-03-11 14:57:36  2018  March     Sunday    14\n",
       "1  2018-03-19 18:53:37  2018  March     Monday    18\n",
       "2  2018-04-26 14:08:44  2018  April   Thursday    14\n",
       "3  2018-03-07 09:43:21  2018  March  Wednesday     9\n",
       "4  2018-03-22 21:07:53  2018  March   Thursday    21"
      ]
     },
     "execution_count": 125,
     "metadata": {},
     "output_type": "execute_result"
    }
   ],
   "source": [
    "date_df = new_merchant[['purchase_date']]\n",
    "date_df['year'] = pd.DatetimeIndex(date_df['purchase_date']).year\n",
    "date_df['month'] = pd.DatetimeIndex(date_df['purchase_date']).month_name()\n",
    "date_df['day'] = pd.DatetimeIndex(date_df['purchase_date']).day_name()\n",
    "date_df['hour'] = pd.DatetimeIndex(date_df['purchase_date']).hour\n",
    "date_df.head()"
   ]
  },
  {
   "cell_type": "code",
   "execution_count": 127,
   "metadata": {
    "scrolled": true
   },
   "outputs": [
    {
     "data": {
      "text/plain": [
       "<AxesSubplot:>"
      ]
     },
     "execution_count": 127,
     "metadata": {},
     "output_type": "execute_result"
    },
    {
     "data": {
      "image/png": "[encoded data removed]",
      "text/plain": [
       "<Figure size 432x288 with 1 Axes>"
      ]
     },
     "metadata": {
      "needs_background": "light"
     },
     "output_type": "display_data"
    }
   ],
   "source": [
    "date_df.groupby('year').get_group(2017)['month'].value_counts().plot(kind = 'bar')"
   ]
  },
  {
   "cell_type": "markdown",
   "metadata": {},
   "source": [
    "In the year 2017 the month December has many purchases."
   ]
  },
  {
   "cell_type": "code",
   "execution_count": 128,
   "metadata": {},
   "outputs": [
    {
     "data": {
      "text/plain": [
       "<AxesSubplot:>"
      ]
     },
     "execution_count": 128,
     "metadata": {},
     "output_type": "execute_result"
    },
    {
     "data": {
      "image/png": "[encoded data removed]",
      "text/plain": [
       "<Figure size 432x288 with 1 Axes>"
      ]
     },
     "metadata": {
      "needs_background": "light"
     },
     "output_type": "display_data"
    }
   ],
   "source": [
    "date_df.groupby('year').get_group(2018)['month'].value_counts().plot(kind = 'bar')"
   ]
  },
  {
   "cell_type": "markdown",
   "metadata": {},
   "source": [
    "For year 2018 there are data for only 4 months. Out of these months, March has lots of purchases"
   ]
  },
  {
   "cell_type": "markdown",
   "metadata": {},
   "source": [
    "#### 4.3 category_1, category_2 and category_3"
   ]
  },
  {
   "cell_type": "code",
   "execution_count": 135,
   "metadata": {},
   "outputs": [
    {
     "name": "stdout",
     "output_type": "stream",
     "text": [
      "N    1899935\n",
      "Y      63096\n",
      "Name: category_1, dtype: int64\n"
     ]
    },
    {
     "data": {
      "image/png": "[encoded data removed]",
      "text/plain": [
       "<Figure size 432x288 with 1 Axes>"
      ]
     },
     "metadata": {
      "needs_background": "light"
     },
     "output_type": "display_data"
    }
   ],
   "source": [
    "new_merchant['category_1'].value_counts().sort_index().plot(kind = 'bar', title = 'category_1')\n",
    "print(new_merchant['category_1'].value_counts())"
   ]
  },
  {
   "cell_type": "code",
   "execution_count": 136,
   "metadata": {},
   "outputs": [
    {
     "name": "stdout",
     "output_type": "stream",
     "text": [
      "1.0    1058242\n",
      "3.0     289525\n",
      "5.0     259266\n",
      "4.0     178590\n",
      "2.0      65663\n",
      "Name: category_2, dtype: int64\n"
     ]
    },
    {
     "data": {
      "image/png": "[encoded data removed]",
      "text/plain": [
       "<Figure size 432x288 with 1 Axes>"
      ]
     },
     "metadata": {
      "needs_background": "light"
     },
     "output_type": "display_data"
    }
   ],
   "source": [
    "new_merchant['category_2'].value_counts().sort_index().plot(kind = 'bar', title = 'category_2')\n",
    "print(new_merchant['category_2'].value_counts())"
   ]
  },
  {
   "cell_type": "code",
   "execution_count": 137,
   "metadata": {},
   "outputs": [
    {
     "name": "stdout",
     "output_type": "stream",
     "text": [
      "A    922244\n",
      "B    836178\n",
      "C    148687\n",
      "Name: category_3, dtype: int64\n"
     ]
    },
    {
     "data": {
      "image/png": "[encoded data removed]",
      "text/plain": [
       "<Figure size 432x288 with 1 Axes>"
      ]
     },
     "metadata": {
      "needs_background": "light"
     },
     "output_type": "display_data"
    }
   ],
   "source": [
    "new_merchant['category_3'].value_counts().sort_index().plot(kind = 'bar', title = 'category_3')\n",
    "print(new_merchant['category_3'].value_counts())"
   ]
  },
  {
   "cell_type": "code",
   "execution_count": 142,
   "metadata": {},
   "outputs": [
    {
     "data": {
      "text/plain": [
       " 0      922244\n",
       " 1      836178\n",
       "-1       55922\n",
       " 2       54729\n",
       " 3       44750\n",
       " 4       14815\n",
       " 6       10389\n",
       " 5        9296\n",
       " 10       8899\n",
       " 12       2850\n",
       " 8        1555\n",
       " 7         863\n",
       " 9         478\n",
       " 11         61\n",
       " 999         2\n",
       "Name: installments, dtype: int64"
      ]
     },
     "execution_count": 142,
     "metadata": {},
     "output_type": "execute_result"
    }
   ],
   "source": [
    "new_merchant['installments'].value_counts()"
   ]
  },
  {
   "cell_type": "markdown",
   "metadata": {},
   "source": [
    "Now let us look at the correlation of the features."
   ]
  },
  {
   "cell_type": "code",
   "execution_count": 156,
   "metadata": {},
   "outputs": [],
   "source": [
    "columns = ['authorized_flag','category_3','month_lag','purchase_amount','state_id','subsector_id', 'category_2','installments']\n",
    "corr_df = new_merchant[columns]"
   ]
  },
  {
   "cell_type": "code",
   "execution_count": 157,
   "metadata": {},
   "outputs": [
    {
     "data": {
      "text/html": [
       "<div>\n",
       "<style scoped>\n",
       "    .dataframe tbody tr th:only-of-type {\n",
       "        vertical-align: middle;\n",
       "    }\n",
       "\n",
       "    .dataframe tbody tr th {\n",
       "        vertical-align: top;\n",
       "    }\n",
       "\n",
       "    .dataframe thead th {\n",
       "        text-align: right;\n",
       "    }\n",
       "</style>\n",
       "<table border=\"1\" class=\"dataframe\">\n",
       "  <thead>\n",
       "    <tr style=\"text-align: right;\">\n",
       "      <th></th>\n",
       "      <th>authorized_flag</th>\n",
       "      <th>category_3</th>\n",
       "      <th>month_lag</th>\n",
       "      <th>purchase_amount</th>\n",
       "      <th>state_id</th>\n",
       "      <th>subsector_id</th>\n",
       "      <th>category_2</th>\n",
       "      <th>installments</th>\n",
       "    </tr>\n",
       "  </thead>\n",
       "  <tbody>\n",
       "    <tr>\n",
       "      <th>0</th>\n",
       "      <td>Y</td>\n",
       "      <td>B</td>\n",
       "      <td>1</td>\n",
       "      <td>-0.557617</td>\n",
       "      <td>9</td>\n",
       "      <td>19</td>\n",
       "      <td>1.0</td>\n",
       "      <td>1</td>\n",
       "    </tr>\n",
       "    <tr>\n",
       "      <th>1</th>\n",
       "      <td>Y</td>\n",
       "      <td>B</td>\n",
       "      <td>1</td>\n",
       "      <td>-0.569336</td>\n",
       "      <td>9</td>\n",
       "      <td>19</td>\n",
       "      <td>1.0</td>\n",
       "      <td>1</td>\n",
       "    </tr>\n",
       "    <tr>\n",
       "      <th>2</th>\n",
       "      <td>Y</td>\n",
       "      <td>B</td>\n",
       "      <td>2</td>\n",
       "      <td>-0.551270</td>\n",
       "      <td>9</td>\n",
       "      <td>14</td>\n",
       "      <td>1.0</td>\n",
       "      <td>1</td>\n",
       "    </tr>\n",
       "    <tr>\n",
       "      <th>3</th>\n",
       "      <td>Y</td>\n",
       "      <td>B</td>\n",
       "      <td>1</td>\n",
       "      <td>-0.671875</td>\n",
       "      <td>-1</td>\n",
       "      <td>8</td>\n",
       "      <td>NaN</td>\n",
       "      <td>1</td>\n",
       "    </tr>\n",
       "    <tr>\n",
       "      <th>4</th>\n",
       "      <td>Y</td>\n",
       "      <td>B</td>\n",
       "      <td>1</td>\n",
       "      <td>-0.659668</td>\n",
       "      <td>-1</td>\n",
       "      <td>29</td>\n",
       "      <td>NaN</td>\n",
       "      <td>1</td>\n",
       "    </tr>\n",
       "  </tbody>\n",
       "</table>\n",
       "</div>"
      ],
      "text/plain": [
       "  authorized_flag category_3  month_lag  purchase_amount  state_id  \\\n",
       "0               Y          B          1        -0.557617         9   \n",
       "1               Y          B          1        -0.569336         9   \n",
       "2               Y          B          2        -0.551270         9   \n",
       "3               Y          B          1        -0.671875        -1   \n",
       "4               Y          B          1        -0.659668        -1   \n",
       "\n",
       "   subsector_id  category_2  installments  \n",
       "0            19         1.0             1  \n",
       "1            19         1.0             1  \n",
       "2            14         1.0             1  \n",
       "3             8         NaN             1  \n",
       "4            29         NaN             1  "
      ]
     },
     "execution_count": 157,
     "metadata": {},
     "output_type": "execute_result"
    }
   ],
   "source": [
    "corr_df.head()"
   ]
  },
  {
   "cell_type": "code",
   "execution_count": 158,
   "metadata": {},
   "outputs": [],
   "source": [
    "corr_df['category_3'] = corr_df['category_3'].map({'A':1, 'B':2, 'C':3})\n",
    "corr_df['authorized_flag'] = corr_df['authorized_flag'].map({'Y':1, 'N':0})\n",
    "corr_df = corr_df.dropna()"
   ]
  },
  {
   "cell_type": "code",
   "execution_count": 160,
   "metadata": {},
   "outputs": [
    {
     "name": "stdout",
     "output_type": "stream",
     "text": [
      "         VIF          feature\n",
      "0  31.880336  authorized_flag\n",
      "1   1.493133       category_3\n",
      "2   1.000173        month_lag\n",
      "3   1.067400  purchase_amount\n",
      "4   1.021572         state_id\n",
      "5   1.010237     subsector_id\n",
      "6   1.021653       category_2\n",
      "7   1.528132     installments\n"
     ]
    }
   ],
   "source": [
    "vif = pd.DataFrame()\n",
    "vif['VIF'] = [variance_inflation_factor(corr_df.values,i) for i in range(len(corr_df.columns))]\n",
    "vif['feature'] = corr_df.columns\n",
    "print(vif)"
   ]
  },
  {
   "cell_type": "markdown",
   "metadata": {},
   "source": [
    "Other than authorized flag all others features are not correlated."
   ]
  },
  {
   "cell_type": "code",
   "execution_count": 162,
   "metadata": {},
   "outputs": [
    {
     "data": {
      "text/plain": [
       "<AxesSubplot:>"
      ]
     },
     "execution_count": 162,
     "metadata": {},
     "output_type": "execute_result"
    },
    {
     "data": {
      "image/png": "[encoded data removed]",
      "text/plain": [
       "<Figure size 432x288 with 2 Axes>"
      ]
     },
     "metadata": {
      "needs_background": "light"
     },
     "output_type": "display_data"
    }
   ],
   "source": [
    "corr = new_merchant.apply(lambda x:pd.factorize(x)[0]).corr(method = 'pearson')\n",
    "corr_norm = np.round((corr - corr.min())/(corr.max()-corr.min()),3)\n",
    "sns.heatmap(corr_norm, xticklabels = corr.columns, yticklabels = corr.columns)"
   ]
  },
  {
   "cell_type": "markdown",
   "metadata": {},
   "source": [
    "Next, to do the analysis we need to merge historical transactions and merchant data on merchant id and then finally merge with train data on card id."
   ]
  },
  {
   "cell_type": "code",
   "execution_count": 6,
   "metadata": {},
   "outputs": [],
   "source": [
    "merchants_sub=merchants[['merchant_id', 'avg_sales_lag3', 'avg_sales_lag6', 'avg_sales_lag12','active_months_lag3', 'active_months_lag6', 'active_months_lag12']]"
   ]
  },
  {
   "cell_type": "code",
   "execution_count": 9,
   "metadata": {},
   "outputs": [],
   "source": [
    "transaction_1=historical_transactions[['card_id','merchant_id']]\n",
    "transaction_2=new_merchant[['card_id','merchant_id']]"
   ]
  },
  {
   "cell_type": "code",
   "execution_count": 10,
   "metadata": {},
   "outputs": [],
   "source": [
    "transactions=transaction_1.append(transaction_2, ignore_index=True)"
   ]
  },
  {
   "cell_type": "code",
   "execution_count": 11,
   "metadata": {},
   "outputs": [
    {
     "data": {
      "text/html": [
       "<div>\n",
       "<style scoped>\n",
       "    .dataframe tbody tr th:only-of-type {\n",
       "        vertical-align: middle;\n",
       "    }\n",
       "\n",
       "    .dataframe tbody tr th {\n",
       "        vertical-align: top;\n",
       "    }\n",
       "\n",
       "    .dataframe thead th {\n",
       "        text-align: right;\n",
       "    }\n",
       "</style>\n",
       "<table border=\"1\" class=\"dataframe\">\n",
       "  <thead>\n",
       "    <tr style=\"text-align: right;\">\n",
       "      <th></th>\n",
       "      <th>card_id</th>\n",
       "      <th>merchant_id</th>\n",
       "      <th>avg_sales_lag3</th>\n",
       "      <th>avg_sales_lag6</th>\n",
       "      <th>avg_sales_lag12</th>\n",
       "      <th>active_months_lag3</th>\n",
       "      <th>active_months_lag6</th>\n",
       "      <th>active_months_lag12</th>\n",
       "    </tr>\n",
       "  </thead>\n",
       "  <tbody>\n",
       "    <tr>\n",
       "      <th>0</th>\n",
       "      <td>C_ID_4e6213e9bc</td>\n",
       "      <td>M_ID_e020e9b302</td>\n",
       "      <td>1.08</td>\n",
       "      <td>1.14</td>\n",
       "      <td>1.19</td>\n",
       "      <td>3.0</td>\n",
       "      <td>6.0</td>\n",
       "      <td>12.0</td>\n",
       "    </tr>\n",
       "    <tr>\n",
       "      <th>1</th>\n",
       "      <td>C_ID_4e6213e9bc</td>\n",
       "      <td>M_ID_86ec983688</td>\n",
       "      <td>1.06</td>\n",
       "      <td>1.06</td>\n",
       "      <td>1.05</td>\n",
       "      <td>3.0</td>\n",
       "      <td>6.0</td>\n",
       "      <td>12.0</td>\n",
       "    </tr>\n",
       "    <tr>\n",
       "      <th>2</th>\n",
       "      <td>C_ID_4e6213e9bc</td>\n",
       "      <td>M_ID_979ed661fc</td>\n",
       "      <td>0.98</td>\n",
       "      <td>0.98</td>\n",
       "      <td>0.97</td>\n",
       "      <td>3.0</td>\n",
       "      <td>6.0</td>\n",
       "      <td>12.0</td>\n",
       "    </tr>\n",
       "    <tr>\n",
       "      <th>3</th>\n",
       "      <td>C_ID_4e6213e9bc</td>\n",
       "      <td>M_ID_e6d5ae8ea6</td>\n",
       "      <td>1.00</td>\n",
       "      <td>0.88</td>\n",
       "      <td>0.86</td>\n",
       "      <td>3.0</td>\n",
       "      <td>6.0</td>\n",
       "      <td>12.0</td>\n",
       "    </tr>\n",
       "    <tr>\n",
       "      <th>4</th>\n",
       "      <td>C_ID_4e6213e9bc</td>\n",
       "      <td>M_ID_e020e9b302</td>\n",
       "      <td>1.08</td>\n",
       "      <td>1.14</td>\n",
       "      <td>1.19</td>\n",
       "      <td>3.0</td>\n",
       "      <td>6.0</td>\n",
       "      <td>12.0</td>\n",
       "    </tr>\n",
       "  </tbody>\n",
       "</table>\n",
       "</div>"
      ],
      "text/plain": [
       "           card_id      merchant_id  avg_sales_lag3  avg_sales_lag6  \\\n",
       "0  C_ID_4e6213e9bc  M_ID_e020e9b302            1.08            1.14   \n",
       "1  C_ID_4e6213e9bc  M_ID_86ec983688            1.06            1.06   \n",
       "2  C_ID_4e6213e9bc  M_ID_979ed661fc            0.98            0.98   \n",
       "3  C_ID_4e6213e9bc  M_ID_e6d5ae8ea6            1.00            0.88   \n",
       "4  C_ID_4e6213e9bc  M_ID_e020e9b302            1.08            1.14   \n",
       "\n",
       "   avg_sales_lag12  active_months_lag3  active_months_lag6  \\\n",
       "0             1.19                 3.0                 6.0   \n",
       "1             1.05                 3.0                 6.0   \n",
       "2             0.97                 3.0                 6.0   \n",
       "3             0.86                 3.0                 6.0   \n",
       "4             1.19                 3.0                 6.0   \n",
       "\n",
       "   active_months_lag12  \n",
       "0                 12.0  \n",
       "1                 12.0  \n",
       "2                 12.0  \n",
       "3                 12.0  \n",
       "4                 12.0  "
      ]
     },
     "execution_count": 11,
     "metadata": {},
     "output_type": "execute_result"
    }
   ],
   "source": [
    "transactions_merchant = pd.merge(transactions, merchants_sub, on = 'merchant_id', how = 'left')\n",
    "transactions_merchant.head()"
   ]
  },
  {
   "cell_type": "code",
   "execution_count": 14,
   "metadata": {},
   "outputs": [
    {
     "data": {
      "text/html": [
       "<div>\n",
       "<style scoped>\n",
       "    .dataframe tbody tr th:only-of-type {\n",
       "        vertical-align: middle;\n",
       "    }\n",
       "\n",
       "    .dataframe tbody tr th {\n",
       "        vertical-align: top;\n",
       "    }\n",
       "\n",
       "    .dataframe thead th {\n",
       "        text-align: right;\n",
       "    }\n",
       "</style>\n",
       "<table border=\"1\" class=\"dataframe\">\n",
       "  <thead>\n",
       "    <tr style=\"text-align: right;\">\n",
       "      <th></th>\n",
       "      <th>first_active_month</th>\n",
       "      <th>card_id</th>\n",
       "      <th>feature_1</th>\n",
       "      <th>feature_2</th>\n",
       "      <th>feature_3</th>\n",
       "      <th>target</th>\n",
       "      <th>active_months_lag3</th>\n",
       "      <th>active_months_lag6</th>\n",
       "      <th>active_months_lag12</th>\n",
       "      <th>avg_sales_lag3</th>\n",
       "      <th>avg_sales_lag6</th>\n",
       "      <th>avg_sales_lag12</th>\n",
       "    </tr>\n",
       "  </thead>\n",
       "  <tbody>\n",
       "    <tr>\n",
       "      <th>0</th>\n",
       "      <td>2017-06</td>\n",
       "      <td>C_ID_92a2005557</td>\n",
       "      <td>5</td>\n",
       "      <td>2</td>\n",
       "      <td>1</td>\n",
       "      <td>-0.820283</td>\n",
       "      <td>846.0</td>\n",
       "      <td>1691.0</td>\n",
       "      <td>3348.0</td>\n",
       "      <td>351.78</td>\n",
       "      <td>1903.69</td>\n",
       "      <td>2174.56</td>\n",
       "    </tr>\n",
       "    <tr>\n",
       "      <th>1</th>\n",
       "      <td>2017-01</td>\n",
       "      <td>C_ID_3d0044924f</td>\n",
       "      <td>4</td>\n",
       "      <td>1</td>\n",
       "      <td>0</td>\n",
       "      <td>0.392913</td>\n",
       "      <td>1113.0</td>\n",
       "      <td>2226.0</td>\n",
       "      <td>4401.0</td>\n",
       "      <td>452.66</td>\n",
       "      <td>761.21</td>\n",
       "      <td>817.45</td>\n",
       "    </tr>\n",
       "    <tr>\n",
       "      <th>2</th>\n",
       "      <td>2016-08</td>\n",
       "      <td>C_ID_d639edf6cd</td>\n",
       "      <td>2</td>\n",
       "      <td>2</td>\n",
       "      <td>0</td>\n",
       "      <td>0.688056</td>\n",
       "      <td>135.0</td>\n",
       "      <td>270.0</td>\n",
       "      <td>533.0</td>\n",
       "      <td>51.36</td>\n",
       "      <td>53.17</td>\n",
       "      <td>53.69</td>\n",
       "    </tr>\n",
       "    <tr>\n",
       "      <th>3</th>\n",
       "      <td>2017-09</td>\n",
       "      <td>C_ID_186d6a6901</td>\n",
       "      <td>4</td>\n",
       "      <td>3</td>\n",
       "      <td>0</td>\n",
       "      <td>0.142495</td>\n",
       "      <td>288.0</td>\n",
       "      <td>576.0</td>\n",
       "      <td>1094.0</td>\n",
       "      <td>150.75</td>\n",
       "      <td>162.66</td>\n",
       "      <td>163.87</td>\n",
       "    </tr>\n",
       "    <tr>\n",
       "      <th>4</th>\n",
       "      <td>2017-11</td>\n",
       "      <td>C_ID_cdbd2c0db2</td>\n",
       "      <td>1</td>\n",
       "      <td>3</td>\n",
       "      <td>0</td>\n",
       "      <td>-0.159749</td>\n",
       "      <td>531.0</td>\n",
       "      <td>1061.0</td>\n",
       "      <td>2068.0</td>\n",
       "      <td>420.06</td>\n",
       "      <td>560.96</td>\n",
       "      <td>585.42</td>\n",
       "    </tr>\n",
       "  </tbody>\n",
       "</table>\n",
       "</div>"
      ],
      "text/plain": [
       "  first_active_month          card_id  feature_1  feature_2  feature_3  \\\n",
       "0            2017-06  C_ID_92a2005557          5          2          1   \n",
       "1            2017-01  C_ID_3d0044924f          4          1          0   \n",
       "2            2016-08  C_ID_d639edf6cd          2          2          0   \n",
       "3            2017-09  C_ID_186d6a6901          4          3          0   \n",
       "4            2017-11  C_ID_cdbd2c0db2          1          3          0   \n",
       "\n",
       "     target  active_months_lag3  active_months_lag6  active_months_lag12  \\\n",
       "0 -0.820283               846.0              1691.0               3348.0   \n",
       "1  0.392913              1113.0              2226.0               4401.0   \n",
       "2  0.688056               135.0               270.0                533.0   \n",
       "3  0.142495               288.0               576.0               1094.0   \n",
       "4 -0.159749               531.0              1061.0               2068.0   \n",
       "\n",
       "   avg_sales_lag3  avg_sales_lag6  avg_sales_lag12  \n",
       "0          351.78         1903.69          2174.56  \n",
       "1          452.66          761.21           817.45  \n",
       "2           51.36           53.17            53.69  \n",
       "3          150.75          162.66           163.87  \n",
       "4          420.06          560.96           585.42  "
      ]
     },
     "execution_count": 14,
     "metadata": {},
     "output_type": "execute_result"
    }
   ],
   "source": [
    "data_agg = transactions_merchant.groupby('card_id')[['active_months_lag3', 'active_months_lag6', 'active_months_lag12','avg_sales_lag3', 'avg_sales_lag6', 'avg_sales_lag12']].sum().reset_index()\n",
    "train_merchant = pd.merge(train, data_agg, on = 'card_id', how = 'left')\n",
    "train_merchant.head()"
   ]
  },
  {
   "cell_type": "markdown",
   "metadata": {},
   "source": [
    "#### Lets look at active months"
   ]
  },
  {
   "cell_type": "code",
   "execution_count": 88,
   "metadata": {},
   "outputs": [
    {
     "data": {
      "image/png": "[encoded data removed]",
      "text/plain": [
       "<Figure size 1080x1080 with 3 Axes>"
      ]
     },
     "metadata": {
      "needs_background": "light"
     },
     "output_type": "display_data"
    }
   ],
   "source": [
    "bins_1 = np.percentile(train_merchant['active_months_lag3'], range(0,101,10))\n",
    "train_merchant['binned_month_3'] = pd.cut(train_merchant['active_months_lag3'], bins_1)\n",
    "bins_2 = np.percentile(train_merchant['active_months_lag6'], range(0,101,10))\n",
    "train_merchant['binned_month_6'] = pd.cut(train_merchant['active_months_lag6'], bins_2)\n",
    "bins_3 = np.percentile(train_merchant['active_months_lag12'], range(0,101,10))\n",
    "train_merchant['binned_month_12'] = pd.cut(train_merchant['active_months_lag12'], bins_3)\n",
    "\n",
    "\n",
    "fig, ax = plt.subplots(3,1,figsize= (15,15))\n",
    "sns.boxplot(x = 'binned_month_3', y = 'target', data = train_merchant, showfliers = False, ax = ax[0]).set_title('active_months_lag3')\n",
    "sns.boxplot(x = 'binned_month_6', y = 'target', data = train_merchant, showfliers = False, ax = ax[1]).set_title('active_months_lag6')\n",
    "sns.boxplot(x = 'binned_month_12', y = 'target', data = train_merchant, showfliers = False, ax = ax[2]).set_title('active_months_lag12')\n",
    "plt.show()"
   ]
  },
  {
   "cell_type": "markdown",
   "metadata": {},
   "source": [
    "It can be observed that as active month lag increases, loyalty score decreases."
   ]
  },
  {
   "cell_type": "code",
   "execution_count": 89,
   "metadata": {},
   "outputs": [
    {
     "data": {
      "image/png": "[encoded data removed]",
      "text/plain": [
       "<Figure size 1080x1080 with 3 Axes>"
      ]
     },
     "metadata": {
      "needs_background": "light"
     },
     "output_type": "display_data"
    }
   ],
   "source": [
    "bins_1 = np.percentile(train_merchant['avg_sales_lag3'], range(0,101,10))\n",
    "train_merchant['binned_sales_3'] = pd.cut(train_merchant['avg_sales_lag3'], bins_1)\n",
    "bins_2 = np.percentile(train_merchant['avg_sales_lag6'], range(0,101,10))\n",
    "train_merchant['binned_sales_6'] = pd.cut(train_merchant['avg_sales_lag6'], bins_2)\n",
    "bins_3 = np.percentile(train_merchant['avg_sales_lag12'], range(0,101,10))\n",
    "train_merchant['binned_sales_12'] = pd.cut(train_merchant['avg_sales_lag12'], bins_3)\n",
    "\n",
    "\n",
    "fig, ax = plt.subplots(3,1,figsize= (15,15))\n",
    "sns.boxplot(x = 'binned_sales_3', y = 'target', data = train_merchant, showfliers = False, ax = ax[0]).set_title('avg_sales_lag3')\n",
    "sns.boxplot(x = 'binned_sales_6', y = 'target', data = train_merchant, showfliers = False, ax = ax[1]).set_title('avg_sales_lag6')\n",
    "sns.boxplot(x = 'binned_sales_12', y = 'target', data = train_merchant, showfliers = False, ax = ax[2]).set_title('avg_sales_lag12')\n",
    "plt.show()"
   ]
  },
  {
   "cell_type": "markdown",
   "metadata": {},
   "source": [
    "As average sales lag increases, loyalty score is decreasing."
   ]
  },
  {
   "cell_type": "markdown",
   "metadata": {},
   "source": [
    "### Observations <br>\n",
    "1. There is a total of 5 csv files; train.csv, test.csv, historical_transactions.csv, merchants.csv and new_merchant_transactions.csv\n",
    "2. There are no null values in train and test data. However by plotting the boxplot of these features, it is observed that the features in train data are not much useful in predicting the target. So we need to come up with new features.\n",
    "3. The distribution of train and test data is almost similar.\n",
    "4. The distribution of target vaariable looks like a normal distribution centered at zero. However it fails the Q-Q plot test. There are also some extreme values in the target which may be outliers.\n",
    "5. There are many anonymous categorical features which needs to be encoded.\n",
    "6. In historical_transactions.csv, there is a purchase_amount feature with value 6010604.0 which may be on outlier and needs to be removed.\n",
    "7. In historical_transacations.csv, nearly 9% of values in category_2 are missing. So these values needs to be imputed.\n",
    "8. In merchants.csv, most_recent_sales_range and most_recent_purchases_range are highly correlated. We can remove any one of these.\n",
    "9. In merchants.csv, there are some avg_purchases_lag with inf value which may have occured due to division by zero. These points need to be removed.\n",
    "10. new_merchant_transactions.csv has a feature called authorized_flag which has a constant value of Y. So this feature can be removed.\n",
    "11. There are many date features. So we can do feature engineering like month of the year, holidays, hour of the day etc."
   ]
  }
 ],
 "metadata": {
  "kernelspec": {
   "display_name": "Python 3",
   "language": "python",
   "name": "python3"
  },
  "language_info": {
   "codemirror_mode": {
    "name": "ipython",
    "version": 3
   },
   "file_extension": ".py",
   "mimetype": "text/x-python",
   "name": "python",
   "nbconvert_exporter": "python",
   "pygments_lexer": "ipython3",
   "version": "3.7.8"
  }
 },
 "nbformat": 4,
 "nbformat_minor": 4
}
